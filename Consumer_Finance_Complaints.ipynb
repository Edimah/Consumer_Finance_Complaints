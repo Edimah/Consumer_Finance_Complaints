{
 "cells": [
  {
   "cell_type": "markdown",
   "metadata": {
    "id": "ptlQNJzq8lK1"
   },
   "source": [
    "# Consumer Finance Complaints \n",
    "## Multicategorical classification for product categories\n",
    "### Edimah SONGO\n"
   ]
  },
  {
   "cell_type": "markdown",
   "metadata": {
    "id": "UDv2x9w2wmi1"
   },
   "source": [
    "These are real world complaints received about financial products and services. Each complaint has been labeled with a specific product; therefore, this is a supervised text classification problem. With the aim to classify future complaints based on its content, you can use different deep learning algorithms to make predictions (i.e., classify the complaint in one of the product categories)"
   ]
  },
  {
   "cell_type": "code",
   "execution_count": 1,
   "metadata": {
    "colab": {
     "base_uri": "https://localhost:8080/",
     "height": 291
    },
    "id": "LVvaskhEwtwQ",
    "outputId": "08179f31-cbf5-48b4-c6f2-de97caf71729"
   },
   "outputs": [
    {
     "data": {
      "text/html": [
       "\n",
       "  <div id=\"df-5448be26-4912-4b98-b505-cc6c50323e2a\">\n",
       "    <div class=\"colab-df-container\">\n",
       "      <div>\n",
       "<style scoped>\n",
       "    .dataframe tbody tr th:only-of-type {\n",
       "        vertical-align: middle;\n",
       "    }\n",
       "\n",
       "    .dataframe tbody tr th {\n",
       "        vertical-align: top;\n",
       "    }\n",
       "\n",
       "    .dataframe thead th {\n",
       "        text-align: right;\n",
       "    }\n",
       "</style>\n",
       "<table border=\"1\" class=\"dataframe\">\n",
       "  <thead>\n",
       "    <tr style=\"text-align: right;\">\n",
       "      <th></th>\n",
       "      <th>level_0</th>\n",
       "      <th>index</th>\n",
       "      <th>date_received</th>\n",
       "      <th>product</th>\n",
       "      <th>sub_product</th>\n",
       "      <th>issue</th>\n",
       "      <th>sub_issue</th>\n",
       "      <th>consumer_complaint_narrative</th>\n",
       "      <th>company_public_response</th>\n",
       "      <th>company</th>\n",
       "      <th>state</th>\n",
       "      <th>zipcode</th>\n",
       "      <th>tags</th>\n",
       "      <th>consumer_consent_provided</th>\n",
       "      <th>submitted_via</th>\n",
       "      <th>date_sent_to_company</th>\n",
       "      <th>company_response_to_consumer</th>\n",
       "      <th>timely_response</th>\n",
       "      <th>consumer_disputed?</th>\n",
       "      <th>complaint_id</th>\n",
       "    </tr>\n",
       "  </thead>\n",
       "  <tbody>\n",
       "    <tr>\n",
       "      <th>0</th>\n",
       "      <td>0</td>\n",
       "      <td>190126</td>\n",
       "      <td>03/19/2015</td>\n",
       "      <td>Debt collection</td>\n",
       "      <td>Other (i.e. phone, health club, etc.)</td>\n",
       "      <td>Cont'd attempts collect debt not owed</td>\n",
       "      <td>Debt was paid</td>\n",
       "      <td>XXXX has claimed I owe them {$27.00} for XXXX ...</td>\n",
       "      <td>NaN</td>\n",
       "      <td>Diversified Consultants, Inc.</td>\n",
       "      <td>NY</td>\n",
       "      <td>121XX</td>\n",
       "      <td>Older American</td>\n",
       "      <td>Consent provided</td>\n",
       "      <td>Web</td>\n",
       "      <td>03/19/2015</td>\n",
       "      <td>Closed with explanation</td>\n",
       "      <td>Yes</td>\n",
       "      <td>No</td>\n",
       "      <td>1290516</td>\n",
       "    </tr>\n",
       "    <tr>\n",
       "      <th>1</th>\n",
       "      <td>1</td>\n",
       "      <td>190135</td>\n",
       "      <td>03/19/2015</td>\n",
       "      <td>Consumer Loan</td>\n",
       "      <td>Vehicle loan</td>\n",
       "      <td>Managing the loan or lease</td>\n",
       "      <td>NaN</td>\n",
       "      <td>Due to inconsistencies in the amount owed that...</td>\n",
       "      <td>NaN</td>\n",
       "      <td>M&amp;T Bank Corporation</td>\n",
       "      <td>VA</td>\n",
       "      <td>221XX</td>\n",
       "      <td>Servicemember</td>\n",
       "      <td>Consent provided</td>\n",
       "      <td>Web</td>\n",
       "      <td>03/19/2015</td>\n",
       "      <td>Closed with explanation</td>\n",
       "      <td>Yes</td>\n",
       "      <td>No</td>\n",
       "      <td>1290492</td>\n",
       "    </tr>\n",
       "    <tr>\n",
       "      <th>2</th>\n",
       "      <td>2</td>\n",
       "      <td>190155</td>\n",
       "      <td>03/19/2015</td>\n",
       "      <td>Mortgage</td>\n",
       "      <td>Conventional fixed mortgage</td>\n",
       "      <td>Loan modification,collection,foreclosure</td>\n",
       "      <td>NaN</td>\n",
       "      <td>In XX/XX/XXXX my wages that I earned at my job...</td>\n",
       "      <td>NaN</td>\n",
       "      <td>Wells Fargo &amp; Company</td>\n",
       "      <td>CA</td>\n",
       "      <td>946XX</td>\n",
       "      <td>NaN</td>\n",
       "      <td>Consent provided</td>\n",
       "      <td>Web</td>\n",
       "      <td>03/19/2015</td>\n",
       "      <td>Closed with explanation</td>\n",
       "      <td>Yes</td>\n",
       "      <td>Yes</td>\n",
       "      <td>1290524</td>\n",
       "    </tr>\n",
       "  </tbody>\n",
       "</table>\n",
       "</div>\n",
       "      <button class=\"colab-df-convert\" onclick=\"convertToInteractive('df-5448be26-4912-4b98-b505-cc6c50323e2a')\"\n",
       "              title=\"Convert this dataframe to an interactive table.\"\n",
       "              style=\"display:none;\">\n",
       "        \n",
       "  <svg xmlns=\"http://www.w3.org/2000/svg\" height=\"24px\"viewBox=\"0 0 24 24\"\n",
       "       width=\"24px\">\n",
       "    <path d=\"M0 0h24v24H0V0z\" fill=\"none\"/>\n",
       "    <path d=\"M18.56 5.44l.94 2.06.94-2.06 2.06-.94-2.06-.94-.94-2.06-.94 2.06-2.06.94zm-11 1L8.5 8.5l.94-2.06 2.06-.94-2.06-.94L8.5 2.5l-.94 2.06-2.06.94zm10 10l.94 2.06.94-2.06 2.06-.94-2.06-.94-.94-2.06-.94 2.06-2.06.94z\"/><path d=\"M17.41 7.96l-1.37-1.37c-.4-.4-.92-.59-1.43-.59-.52 0-1.04.2-1.43.59L10.3 9.45l-7.72 7.72c-.78.78-.78 2.05 0 2.83L4 21.41c.39.39.9.59 1.41.59.51 0 1.02-.2 1.41-.59l7.78-7.78 2.81-2.81c.8-.78.8-2.07 0-2.86zM5.41 20L4 18.59l7.72-7.72 1.47 1.35L5.41 20z\"/>\n",
       "  </svg>\n",
       "      </button>\n",
       "      \n",
       "  <style>\n",
       "    .colab-df-container {\n",
       "      display:flex;\n",
       "      flex-wrap:wrap;\n",
       "      gap: 12px;\n",
       "    }\n",
       "\n",
       "    .colab-df-convert {\n",
       "      background-color: #E8F0FE;\n",
       "      border: none;\n",
       "      border-radius: 50%;\n",
       "      cursor: pointer;\n",
       "      display: none;\n",
       "      fill: #1967D2;\n",
       "      height: 32px;\n",
       "      padding: 0 0 0 0;\n",
       "      width: 32px;\n",
       "    }\n",
       "\n",
       "    .colab-df-convert:hover {\n",
       "      background-color: #E2EBFA;\n",
       "      box-shadow: 0px 1px 2px rgba(60, 64, 67, 0.3), 0px 1px 3px 1px rgba(60, 64, 67, 0.15);\n",
       "      fill: #174EA6;\n",
       "    }\n",
       "\n",
       "    [theme=dark] .colab-df-convert {\n",
       "      background-color: #3B4455;\n",
       "      fill: #D2E3FC;\n",
       "    }\n",
       "\n",
       "    [theme=dark] .colab-df-convert:hover {\n",
       "      background-color: #434B5C;\n",
       "      box-shadow: 0px 1px 3px 1px rgba(0, 0, 0, 0.15);\n",
       "      filter: drop-shadow(0px 1px 2px rgba(0, 0, 0, 0.3));\n",
       "      fill: #FFFFFF;\n",
       "    }\n",
       "  </style>\n",
       "\n",
       "      <script>\n",
       "        const buttonEl =\n",
       "          document.querySelector('#df-5448be26-4912-4b98-b505-cc6c50323e2a button.colab-df-convert');\n",
       "        buttonEl.style.display =\n",
       "          google.colab.kernel.accessAllowed ? 'block' : 'none';\n",
       "\n",
       "        async function convertToInteractive(key) {\n",
       "          const element = document.querySelector('#df-5448be26-4912-4b98-b505-cc6c50323e2a');\n",
       "          const dataTable =\n",
       "            await google.colab.kernel.invokeFunction('convertToInteractive',\n",
       "                                                     [key], {});\n",
       "          if (!dataTable) return;\n",
       "\n",
       "          const docLinkHtml = 'Like what you see? Visit the ' +\n",
       "            '<a target=\"_blank\" href=https://colab.research.google.com/notebooks/data_table.ipynb>data table notebook</a>'\n",
       "            + ' to learn more about interactive tables.';\n",
       "          element.innerHTML = '';\n",
       "          dataTable['output_type'] = 'display_data';\n",
       "          await google.colab.output.renderOutput(dataTable, element);\n",
       "          const docLink = document.createElement('div');\n",
       "          docLink.innerHTML = docLinkHtml;\n",
       "          element.appendChild(docLink);\n",
       "        }\n",
       "      </script>\n",
       "    </div>\n",
       "  </div>\n",
       "  "
      ],
      "text/plain": [
       "   level_0   index date_received          product  \\\n",
       "0        0  190126    03/19/2015  Debt collection   \n",
       "1        1  190135    03/19/2015    Consumer Loan   \n",
       "2        2  190155    03/19/2015         Mortgage   \n",
       "\n",
       "                             sub_product  \\\n",
       "0  Other (i.e. phone, health club, etc.)   \n",
       "1                           Vehicle loan   \n",
       "2            Conventional fixed mortgage   \n",
       "\n",
       "                                      issue      sub_issue  \\\n",
       "0     Cont'd attempts collect debt not owed  Debt was paid   \n",
       "1                Managing the loan or lease            NaN   \n",
       "2  Loan modification,collection,foreclosure            NaN   \n",
       "\n",
       "                        consumer_complaint_narrative company_public_response  \\\n",
       "0  XXXX has claimed I owe them {$27.00} for XXXX ...                     NaN   \n",
       "1  Due to inconsistencies in the amount owed that...                     NaN   \n",
       "2  In XX/XX/XXXX my wages that I earned at my job...                     NaN   \n",
       "\n",
       "                         company state zipcode            tags  \\\n",
       "0  Diversified Consultants, Inc.    NY   121XX  Older American   \n",
       "1           M&T Bank Corporation    VA   221XX   Servicemember   \n",
       "2          Wells Fargo & Company    CA   946XX             NaN   \n",
       "\n",
       "  consumer_consent_provided submitted_via date_sent_to_company  \\\n",
       "0          Consent provided           Web           03/19/2015   \n",
       "1          Consent provided           Web           03/19/2015   \n",
       "2          Consent provided           Web           03/19/2015   \n",
       "\n",
       "  company_response_to_consumer timely_response consumer_disputed?  \\\n",
       "0      Closed with explanation             Yes                 No   \n",
       "1      Closed with explanation             Yes                 No   \n",
       "2      Closed with explanation             Yes                Yes   \n",
       "\n",
       "   complaint_id  \n",
       "0       1290516  \n",
       "1       1290492  \n",
       "2       1290524  "
      ]
     },
     "execution_count": 1,
     "metadata": {},
     "output_type": "execute_result"
    }
   ],
   "source": [
    "import pandas as pd\n",
    "data1 = pd.read_csv(\"https://raw.githubusercontent.com/fabnancyuhp/DEEP-LEARNING/main/DATA/consumer_complaints1.csv\")\n",
    "data2 = pd.read_csv(\"https://raw.githubusercontent.com/fabnancyuhp/DEEP-LEARNING/main/DATA/consumer_complaints2.csv\")\n",
    "data3 = pd.read_csv(\"https://raw.githubusercontent.com/fabnancyuhp/DEEP-LEARNING/main/DATA/consumer_complaints3.csv\")\n",
    "data4 = pd.read_csv(\"https://raw.githubusercontent.com/fabnancyuhp/DEEP-LEARNING/main/DATA/consumer_complaints4.csv\")\n",
    "\n",
    "complaints = pd.concat([data1,data2,data3,data4], axis=0, ignore_index=True)\n",
    "complaints.head(3)"
   ]
  },
  {
   "cell_type": "markdown",
   "metadata": {
    "id": "zAcgPTW7E3w5"
   },
   "source": [
    "The goal here is to design some deep learning algorithms that classify complaints in one each product categories. In the following, we will be designing four different models and compare their performances using various metrics :\n",
    "- Convolutional Neural Networks\n",
    "- Recurrent Neural Networks\n",
    "  - Single-layer LSTM\n",
    "  - Bidirectional LSTM\n",
    "- Transformer Pre-trained on BERT\n",
    "\n",
    "Once all the models have been trained and compared with the usual metrics, we will be using them to predict the category of a brand new complaint.\n",
    "\n",
    "**Remark** : In the exportation, we've noticed that the `concat` method leads to indices appearing four times in the new `complaints` Dataframe. So we set the `ignore_index` to True."
   ]
  },
  {
   "cell_type": "markdown",
   "metadata": {
    "id": "zc1_Hr3f-Ycd"
   },
   "source": [
    "# Exploratory Data Analysis (EDA)"
   ]
  },
  {
   "cell_type": "markdown",
   "metadata": {
    "id": "UDnP5Zbq-b8s"
   },
   "source": [
    "Here, we gain insights into our data through the distribution of complaint categories, the length of the complaints, and the most frequent words used in the complaints.\n",
    "\n",
    "\n",
    "* **Word Cloud**: visualise the most frequent words used in the issues columns to get an idea of the most common problems customers are facing. You can use Python's wordcloud library for this.\n",
    "* **Distribution of product categories** : get an idea of how balanced the complaints are.\n"
   ]
  },
  {
   "cell_type": "markdown",
   "metadata": {
    "id": "ER4RY5xsrqax"
   },
   "source": [
    "### Basic summary statistics and counts"
   ]
  },
  {
   "cell_type": "code",
   "execution_count": 2,
   "metadata": {
    "colab": {
     "base_uri": "https://localhost:8080/"
    },
    "id": "HkcgrFumqj3E",
    "outputId": "7e05bebd-47c8-4595-992d-8f8f006fbd5b"
   },
   "outputs": [
    {
     "name": "stdout",
     "output_type": "stream",
     "text": [
      "<class 'pandas.core.frame.DataFrame'>\n",
      "RangeIndex: 66806 entries, 0 to 66805\n",
      "Data columns (total 20 columns):\n",
      " #   Column                        Non-Null Count  Dtype \n",
      "---  ------                        --------------  ----- \n",
      " 0   level_0                       66806 non-null  int64 \n",
      " 1   index                         66806 non-null  int64 \n",
      " 2   date_received                 66806 non-null  object\n",
      " 3   product                       66806 non-null  object\n",
      " 4   sub_product                   46351 non-null  object\n",
      " 5   issue                         66806 non-null  object\n",
      " 6   sub_issue                     32932 non-null  object\n",
      " 7   consumer_complaint_narrative  66806 non-null  object\n",
      " 8   company_public_response       32776 non-null  object\n",
      " 9   company                       66806 non-null  object\n",
      " 10  state                         66620 non-null  object\n",
      " 11  zipcode                       66617 non-null  object\n",
      " 12  tags                          11417 non-null  object\n",
      " 13  consumer_consent_provided     66806 non-null  object\n",
      " 14  submitted_via                 66806 non-null  object\n",
      " 15  date_sent_to_company          66806 non-null  object\n",
      " 16  company_response_to_consumer  66806 non-null  object\n",
      " 17  timely_response               66806 non-null  object\n",
      " 18  consumer_disputed?            66806 non-null  object\n",
      " 19  complaint_id                  66806 non-null  int64 \n",
      "dtypes: int64(3), object(17)\n",
      "memory usage: 10.2+ MB\n"
     ]
    }
   ],
   "source": [
    "complaints.info()"
   ]
  },
  {
   "cell_type": "code",
   "execution_count": 3,
   "metadata": {
    "colab": {
     "base_uri": "https://localhost:8080/"
    },
    "id": "CSe1wbhr8ftU",
    "outputId": "f372afdb-4e3c-4708-d74f-d5790e6abc51"
   },
   "outputs": [
    {
     "name": "stdout",
     "output_type": "stream",
     "text": [
      "Product categories :  ['Debt collection' 'Consumer Loan' 'Mortgage' 'Credit card'\n",
      " 'Credit reporting' 'Student loan' 'Bank account or service' 'Payday loan'\n",
      " 'Money transfers' 'Other financial service' 'Prepaid card']\n",
      "Number of product categories :  11\n"
     ]
    }
   ],
   "source": [
    "print(\"Product categories : \", complaints['product'].unique())\n",
    "\n",
    "num_classes = len(complaints['product'].unique())\n",
    "print(\"Number of product categories : \", num_classes)"
   ]
  },
  {
   "cell_type": "markdown",
   "metadata": {
    "id": "G1EWp8F9rQBR"
   },
   "source": [
    "There are 66806 rows and no null-values for the \"product\", \"issues\", and \"consumer_complaint_narrative\" columns. \n",
    "\n",
    "Additionally there are exactly 11 product categories."
   ]
  },
  {
   "cell_type": "markdown",
   "metadata": {
    "id": "6jfLogPmr1yv"
   },
   "source": [
    "### Distribution of product categories"
   ]
  },
  {
   "cell_type": "code",
   "execution_count": 4,
   "metadata": {
    "colab": {
     "base_uri": "https://localhost:8080/",
     "height": 407
    },
    "id": "aqmG6uWjy8ZZ",
    "outputId": "d0d0ff9e-a6f4-4db3-d875-b03e722ae9e0"
   },
   "outputs": [
    {
     "data": {
      "text/plain": [
       "<AxesSubplot:xlabel='product', ylabel='count'>"
      ]
     },
     "execution_count": 4,
     "metadata": {},
     "output_type": "execute_result"
    },
    {
     "data": {
      "image/png": "[encoded data removed]",
      "text/plain": [
       "<Figure size 432x288 with 1 Axes>"
      ]
     },
     "metadata": {
      "needs_background": "light"
     },
     "output_type": "display_data"
    }
   ],
   "source": [
    "import seaborn as sns\n",
    "dist = sns.countplot(x='product',data=complaints)\n",
    "dist.set_xticklabels(dist.get_xticklabels(), rotation=90)\n",
    "dist"
   ]
  },
  {
   "cell_type": "markdown",
   "metadata": {
    "id": "fk4eLIdVNkFO"
   },
   "source": [
    "The distributions are somewhat imbalanced, which might affect the performance of our deep learning models with majority categories being over-represented. \n",
    "\n",
    "We later use this information to pick a parameter when computing predictions with our transformer model."
   ]
  },
  {
   "cell_type": "markdown",
   "metadata": {
    "id": "xOU_auAiy2yX"
   },
   "source": [
    "### Word cloud : most common issues"
   ]
  },
  {
   "cell_type": "code",
   "execution_count": 5,
   "metadata": {
    "colab": {
     "base_uri": "https://localhost:8080/",
     "height": 198
    },
    "id": "4JP8OB1DzI4j",
    "outputId": "046780ff-3558-48cf-8a7d-291e3fed5054"
   },
   "outputs": [
    {
     "data": {
      "image/png": "[encoded data removed]",
      "text/plain": [
       "<Figure size 432x288 with 1 Axes>"
      ]
     },
     "metadata": {
      "needs_background": "light"
     },
     "output_type": "display_data"
    }
   ],
   "source": [
    "import matplotlib.pyplot as plt\n",
    "from wordcloud import WordCloud\n",
    "\n",
    "text = ' '.join(complaints['issue'].astype(str).tolist())\n",
    "\n",
    "wordcloud = WordCloud(background_color='white').generate(text)\n",
    "\n",
    "plt.imshow(wordcloud, interpolation='bilinear')\n",
    "plt.axis('off')\n",
    "plt.show()"
   ]
  },
  {
   "cell_type": "markdown",
   "metadata": {
    "id": "cl1-2oig8ggZ"
   },
   "source": [
    "# Data preprocessing\n",
    "\n"
   ]
  },
  {
   "cell_type": "markdown",
   "metadata": {
    "id": "zwrSwKvnn7EH"
   },
   "source": [
    "## Text preprocessing "
   ]
  },
  {
   "cell_type": "markdown",
   "metadata": {
    "id": "irqjAuqf0gyv"
   },
   "source": [
    "### Merge columns of interest into one\n",
    "\n",
    "\n",
    "\n",
    "Both the \"issue\" and \"consumer_complaint_narrative\" columns contain text info from the consumer. We merge them into one column \"whole_complaint\" that we will then use for text mining."
   ]
  },
  {
   "cell_type": "code",
   "execution_count": 6,
   "metadata": {
    "colab": {
     "base_uri": "https://localhost:8080/"
    },
    "id": "pAw6gjo00kQF",
    "outputId": "1724b98c-e613-4d6c-a93d-3904e3a5d550"
   },
   "outputs": [
    {
     "data": {
      "text/plain": [
       "0    Cont'd attempts collect debt not owed. XXXX ha...\n",
       "1    Managing the loan or lease. Due to inconsisten...\n",
       "2    Loan modification,collection,foreclosure. In X...\n",
       "3    Loan servicing, payments, escrow account. I ha...\n",
       "4    Credit decision / Underwriting. XXXX was submi...\n",
       "Name: whole_complaint, dtype: object"
      ]
     },
     "execution_count": 6,
     "metadata": {},
     "output_type": "execute_result"
    }
   ],
   "source": [
    "complaints['whole_complaint'] = complaints['issue'] + \". \" + complaints['consumer_complaint_narrative']\n",
    "\n",
    "complaints['whole_complaint'].head()"
   ]
  },
  {
   "cell_type": "markdown",
   "metadata": {
    "id": "0-pVNtYl0vaF"
   },
   "source": [
    "### Clean the data\n",
    "\n",
    "First, we notice that the text data is relatively clean of noisy symbols, save for occasional \"\\n\". \n"
   ]
  },
  {
   "cell_type": "code",
   "execution_count": 7,
   "metadata": {
    "colab": {
     "base_uri": "https://localhost:8080/",
     "height": 105
    },
    "id": "IU4kUVuw2EBY",
    "outputId": "f5c8f764-35b8-44ef-83a0-c00dfb67e448"
   },
   "outputs": [
    {
     "data": {
      "application/vnd.google.colaboratory.intrinsic+json": {
       "type": "string"
      },
      "text/plain": [
       "'Incorrect information on credit report. I have submitted XXXX disputes to Trans Union credit bureau regarding incorrect payment history for an account on my report - XXXX. The payment history reflects multiple late payments when in fact the account was paid in a timely manner. I have also contacted the creditor but no answer has been given after numerous attempts. I am not sure what else to do given the attempts and lack of proper response from the credit bureau. \\n'"
      ]
     },
     "execution_count": 7,
     "metadata": {},
     "output_type": "execute_result"
    }
   ],
   "source": [
    "complaints['whole_complaint'][25]"
   ]
  },
  {
   "cell_type": "markdown",
   "metadata": {
    "id": "XNGUPkwq2CZH"
   },
   "source": [
    "\n",
    "Now, using the modified `clean_text` function from the text_mining_with_CNN assignnment we clean the newly formed column."
   ]
  },
  {
   "cell_type": "code",
   "execution_count": 8,
   "metadata": {
    "id": "d8P9Uykoz9yR"
   },
   "outputs": [],
   "source": [
    "import re\n",
    "def clean_text(data):\n",
    "    html_tag=re.compile(r'<.*?>')\n",
    "    data=html_tag.sub(r'',data)\n",
    "    punct_tag=re.compile(r'[^\\w\\s]')\n",
    "    data=punct_tag.sub(r'',data)\n",
    "    url_clean= re.compile(r\"https://\\S+|www\\.\\S+\")\n",
    "    data=url_clean.sub(r'',data)\n",
    "    emoji_clean= re.compile(\"[\"\n",
    "                           u\"\\U0001F600-\\U0001F64F\"  # emoticons\n",
    "                           u\"\\U0001F300-\\U0001F5FF\"  # symbols & pictographs\n",
    "                           u\"\\U0001F680-\\U0001F6FF\"  # transport & map symbols\n",
    "                           u\"\\U0001F1E0-\\U0001F1FF\"  # flags (iOS)\n",
    "                           u\"\\U00002702-\\U000027B0\"\n",
    "                           u\"\\U000024C2-\\U0001F251\"\n",
    "                           \"]+\", flags=re.UNICODE)\n",
    "    data=emoji_clean.sub(r'',data)\n",
    "    data=data.replace(\"\\n\", \" \")\n",
    "    return data"
   ]
  },
  {
   "cell_type": "code",
   "execution_count": 9,
   "metadata": {
    "id": "SQVv-5Kbz-8E"
   },
   "outputs": [],
   "source": [
    "complaints['whole_complaint'] = complaints['whole_complaint'].apply(lambda x:clean_text(x).lower())"
   ]
  },
  {
   "cell_type": "markdown",
   "metadata": {
    "id": "TQ0-w7c9-RN_"
   },
   "source": [
    "We can check again our example for any undesirable symbol and move on."
   ]
  },
  {
   "cell_type": "code",
   "execution_count": 10,
   "metadata": {
    "colab": {
     "base_uri": "https://localhost:8080/",
     "height": 105
    },
    "id": "l9D7fNg5-V2Z",
    "outputId": "0636c200-d865-4e6b-ec93-4b1981091a06"
   },
   "outputs": [
    {
     "data": {
      "application/vnd.google.colaboratory.intrinsic+json": {
       "type": "string"
      },
      "text/plain": [
       "'incorrect information on credit report i have submitted xxxx disputes to trans union credit bureau regarding incorrect payment history for an account on my report  xxxx the payment history reflects multiple late payments when in fact the account was paid in a timely manner i have also contacted the creditor but no answer has been given after numerous attempts i am not sure what else to do given the attempts and lack of proper response from the credit bureau  '"
      ]
     },
     "execution_count": 10,
     "metadata": {},
     "output_type": "execute_result"
    }
   ],
   "source": [
    "complaints['whole_complaint'][25]"
   ]
  },
  {
   "cell_type": "markdown",
   "metadata": {
    "id": "7owtiq2on_kC"
   },
   "source": [
    "## Encoding the target values"
   ]
  },
  {
   "cell_type": "code",
   "execution_count": 11,
   "metadata": {
    "id": "73brxL53CGEU"
   },
   "outputs": [],
   "source": [
    "from sklearn.preprocessing import LabelEncoder\n",
    "le = LabelEncoder()\n",
    "le.fit(complaints['product'].unique())\n",
    "\n",
    "complaints['encoded_target'] = le.transform(complaints['product'])"
   ]
  },
  {
   "cell_type": "markdown",
   "metadata": {
    "id": "mhRDtAolpvgv"
   },
   "source": [
    "## Vectorising the text"
   ]
  },
  {
   "cell_type": "markdown",
   "metadata": {
    "id": "NNh6yU6hBWlR"
   },
   "source": [
    "Here we tokenize and vectorize our data so we can use it in our Deep Learning models.\n",
    "\n"
   ]
  },
  {
   "cell_type": "code",
   "execution_count": 12,
   "metadata": {
    "id": "ulUl1vaCCcla"
   },
   "outputs": [],
   "source": [
    "from tensorflow.keras.preprocessing.text import Tokenizer\n",
    "\n",
    "X_token = [d.split() for d in list(complaints['whole_complaint'])]\n",
    "tokenizer = Tokenizer()\n",
    "tokenizer.fit_on_texts(X_token)\n",
    "X = tokenizer.texts_to_sequences(X_token)\n",
    "\n",
    "vocab_size = len(tokenizer.word_index)+1"
   ]
  },
  {
   "cell_type": "markdown",
   "metadata": {
    "id": "qhwRST7HC_da"
   },
   "source": [
    "Now we refer to a histogram of the length of each complaint to decide what the best truncation would be for better performance."
   ]
  },
  {
   "cell_type": "code",
   "execution_count": 13,
   "metadata": {
    "colab": {
     "base_uri": "https://localhost:8080/",
     "height": 265
    },
    "id": "S1kokJo6Dma5",
    "outputId": "a428cd56-abb5-42d7-eb34-f5181cc7ec1b"
   },
   "outputs": [
    {
     "data": {
      "image/png": "[encoded data removed]",
      "text/plain": [
       "<Figure size 432x288 with 1 Axes>"
      ]
     },
     "metadata": {
      "needs_background": "light"
     },
     "output_type": "display_data"
    }
   ],
   "source": [
    "import matplotlib.pyplot as plt\n",
    "plt.hist([len(x) for x in X],bins=400)\n",
    "plt.show()"
   ]
  },
  {
   "cell_type": "markdown",
   "metadata": {
    "id": "NftpldPqFG5i"
   },
   "source": [
    "Notice that most complaints have a word count of less than 400, we decide to use `pad_sequence` to truncate and pad the text data. This will help ensure that all inputs have the same length and can be fed into the model without issues."
   ]
  },
  {
   "cell_type": "code",
   "execution_count": 14,
   "metadata": {
    "id": "0KkOElijFvIQ"
   },
   "outputs": [],
   "source": [
    "from tensorflow.keras.preprocessing.sequence import pad_sequences\n",
    "\n",
    "max_length = 400\n",
    "\n",
    "X = pad_sequences(X, maxlen=max_length, padding='post')"
   ]
  },
  {
   "cell_type": "markdown",
   "metadata": {
    "id": "FMKqhit5p-QJ"
   },
   "source": [
    "## Train/test set split"
   ]
  },
  {
   "cell_type": "code",
   "execution_count": 15,
   "metadata": {
    "id": "XQoT8WiVnt-q"
   },
   "outputs": [],
   "source": [
    "from sklearn.model_selection import train_test_split\n",
    "from keras.utils import to_categorical\n",
    "\n",
    "X_train, X_test, y_train, y_test = train_test_split(X,complaints['encoded_target'].values,test_size=0.20, random_state=42)\n",
    "\n",
    "# We apply one hot encoding to the datasets\n",
    "y_train = to_categorical(y_train, num_classes=num_classes)\n",
    "y_test = to_categorical(y_test, num_classes=num_classes)"
   ]
  },
  {
   "cell_type": "markdown",
   "metadata": {
    "id": "iWqv6F5N_5jE"
   },
   "source": [
    "# Model architectures\n",
    "\n",
    "In the following, we develop four different model architectures to classify the complaints."
   ]
  },
  {
   "cell_type": "markdown",
   "metadata": {
    "id": "pevmNwbI_8pd"
   },
   "source": [
    "## Convolutional Neural Network (CNN)"
   ]
  },
  {
   "cell_type": "markdown",
   "metadata": {
    "id": "i180Of7iGi8d"
   },
   "source": [
    "Our first model is a CNN, comprising of :\n",
    "- An embedding layer,\n",
    "- 3 convolution layers so it can pick up on more subtle nuances in the text,\n",
    "- 2 dropout layers throughout to avoid overfitting,\n",
    "- A global max pooling layer in order to pick up on the most important information in the text (as opposed to an average, as with \"average pooling\")\n",
    "\n",
    "\n",
    "Since we are dealing with multicategorical classification, the last dense layer gives the same number of outputs as the number of classes, and we can use softmax as the activation function. \n",
    "\n",
    "Our model will output a probability for each possible product category. In that spirit, we also use the categorical cross-entropy as a loss function.\n",
    "\n",
    "We compile this model with an ADAM optimizer, a binary_crossentropy loss function and the \"accuracy\" metric."
   ]
  },
  {
   "cell_type": "code",
   "execution_count": 16,
   "metadata": {
    "id": "8kBiBjMtGmu6"
   },
   "outputs": [],
   "source": [
    "from tensorflow.keras.models import Sequential\n",
    "from tensorflow.keras.layers import Dense, Embedding, Conv1D, GlobalMaxPooling1D, GlobalAveragePooling1D, Flatten, Dropout\n",
    "\n",
    "embedding_dim = 100\n",
    "num_filters = 128\n",
    "filter_size = 5\n",
    "\n",
    "model_cnn = Sequential()\n",
    "model_cnn.add(Embedding(input_dim=vocab_size, output_dim=embedding_dim, input_length=max_length))\n",
    "model_cnn.add(Conv1D(num_filters, filter_size, activation='relu'))\n",
    "model_cnn.add(Conv1D(num_filters, filter_size, activation='relu')) # stacking Convolutions to better capture complex patterns\n",
    "model_cnn.add(Dropout(rate=0.1))\n",
    "model_cnn.add(Conv1D(num_filters, filter_size, activation='relu'))\n",
    "model_cnn.add(GlobalMaxPooling1D()) # max pooling to focus on the most important features\n",
    "model_cnn.add(Flatten())\n",
    "model_cnn.add(Dropout(rate=0.1))\n",
    "model_cnn.add(Dense(num_classes, activation='softmax'))\n",
    "\n",
    "model_cnn.compile(optimizer='adam',loss='categorical_crossentropy',metrics=['accuracy']) "
   ]
  },
  {
   "cell_type": "code",
   "execution_count": 17,
   "metadata": {
    "colab": {
     "base_uri": "https://localhost:8080/"
    },
    "id": "SLFMOozHMNno",
    "outputId": "786a7360-471d-4b5d-ac39-d0a23cd86d87"
   },
   "outputs": [
    {
     "name": "stdout",
     "output_type": "stream",
     "text": [
      "Model: \"sequential\"\n",
      "_________________________________________________________________\n",
      " Layer (type)                Output Shape              Param #   \n",
      "=================================================================\n",
      " embedding (Embedding)       (None, 400, 100)          6771800   \n",
      "                                                                 \n",
      " conv1d (Conv1D)             (None, 396, 128)          64128     \n",
      "                                                                 \n",
      " conv1d_1 (Conv1D)           (None, 392, 128)          82048     \n",
      "                                                                 \n",
      " dropout (Dropout)           (None, 392, 128)          0         \n",
      "                                                                 \n",
      " conv1d_2 (Conv1D)           (None, 388, 128)          82048     \n",
      "                                                                 \n",
      " global_max_pooling1d (Globa  (None, 128)              0         \n",
      " lMaxPooling1D)                                                  \n",
      "                                                                 \n",
      " flatten (Flatten)           (None, 128)               0         \n",
      "                                                                 \n",
      " dropout_1 (Dropout)         (None, 128)               0         \n",
      "                                                                 \n",
      " dense (Dense)               (None, 11)                1419      \n",
      "                                                                 \n",
      "=================================================================\n",
      "Total params: 7,001,443\n",
      "Trainable params: 7,001,443\n",
      "Non-trainable params: 0\n",
      "_________________________________________________________________\n"
     ]
    }
   ],
   "source": [
    "model_cnn.summary()"
   ]
  },
  {
   "cell_type": "code",
   "execution_count": 18,
   "metadata": {
    "colab": {
     "base_uri": "https://localhost:8080/"
    },
    "id": "CCEIhLzpOPXm",
    "outputId": "dfdc8910-4441-450d-a423-0f9eb10bd950"
   },
   "outputs": [
    {
     "name": "stdout",
     "output_type": "stream",
     "text": [
      "Epoch 1/5\n",
      "1504/1504 [==============================] - 99s 60ms/step - loss: 0.4126 - accuracy: 0.8648 - val_loss: 0.1439 - val_accuracy: 0.9560\n",
      "Epoch 2/5\n",
      "1504/1504 [==============================] - 28s 19ms/step - loss: 0.1158 - accuracy: 0.9653 - val_loss: 0.1232 - val_accuracy: 0.9654\n",
      "Epoch 3/5\n",
      "1504/1504 [==============================] - 22s 15ms/step - loss: 0.0693 - accuracy: 0.9796 - val_loss: 0.1276 - val_accuracy: 0.9680\n",
      "Epoch 4/5\n",
      "1504/1504 [==============================] - 22s 15ms/step - loss: 0.0454 - accuracy: 0.9869 - val_loss: 0.1497 - val_accuracy: 0.9652\n",
      "Epoch 5/5\n",
      "1504/1504 [==============================] - 22s 15ms/step - loss: 0.0327 - accuracy: 0.9908 - val_loss: 0.1534 - val_accuracy: 0.9650\n"
     ]
    }
   ],
   "source": [
    "history_cnn = model_cnn.fit(X_train, y_train,epochs=5,validation_split=0.1)"
   ]
  },
  {
   "cell_type": "code",
   "execution_count": 19,
   "metadata": {
    "colab": {
     "base_uri": "https://localhost:8080/"
    },
    "id": "4rkK7CIlddjN",
    "outputId": "a3cf9913-2c4e-4b33-cf58-6c12e6fba325"
   },
   "outputs": [
    {
     "name": "stdout",
     "output_type": "stream",
     "text": [
      "418/418 [==============================] - 2s 5ms/step - loss: 0.1381 - accuracy: 0.9670\n"
     ]
    },
    {
     "data": {
      "text/plain": [
       "[0.1381445825099945, 0.9669959545135498]"
      ]
     },
     "execution_count": 19,
     "metadata": {},
     "output_type": "execute_result"
    }
   ],
   "source": [
    "model_cnn.evaluate(X_test, y_test)"
   ]
  },
  {
   "cell_type": "markdown",
   "metadata": {
    "id": "85A3-xVqABXp"
   },
   "source": [
    "## Recurrent Neural Network : Long Short-Term Memory (LSTM)"
   ]
  },
  {
   "cell_type": "markdown",
   "metadata": {
    "id": "ZBO-_qj7p6mm"
   },
   "source": [
    "### Single-layer LSTM"
   ]
  },
  {
   "cell_type": "code",
   "execution_count": 20,
   "metadata": {
    "id": "34zqvDUkc5-_"
   },
   "outputs": [],
   "source": [
    "from keras.layers import LSTM\n",
    "\n",
    "model_lstm = Sequential()\n",
    "model_lstm.add(Embedding(input_dim=vocab_size, output_dim=embedding_dim, input_length=max_length))\n",
    "model_lstm.add(LSTM(units=128))\n",
    "model_lstm.add(Dense(num_classes, activation='softmax'))\n",
    "\n",
    "model_lstm.compile(optimizer='adam',loss='categorical_crossentropy',metrics=['accuracy']) "
   ]
  },
  {
   "cell_type": "code",
   "execution_count": 21,
   "metadata": {
    "colab": {
     "base_uri": "https://localhost:8080/"
    },
    "id": "wiIMhe9Td5Wr",
    "outputId": "15516660-a6e8-4154-8c46-854f54b3ba59"
   },
   "outputs": [
    {
     "name": "stdout",
     "output_type": "stream",
     "text": [
      "Epoch 1/5\n",
      "1504/1504 [==============================] - 81s 52ms/step - loss: 1.8815 - accuracy: 0.2900 - val_loss: 1.8767 - val_accuracy: 0.2804\n",
      "Epoch 2/5\n",
      "1504/1504 [==============================] - 33s 22ms/step - loss: 1.0184 - accuracy: 0.5898 - val_loss: 1.0074 - val_accuracy: 0.6260\n",
      "Epoch 3/5\n",
      "1504/1504 [==============================] - 30s 20ms/step - loss: 0.7383 - accuracy: 0.6831 - val_loss: 0.6310 - val_accuracy: 0.7373\n",
      "Epoch 4/5\n",
      "1504/1504 [==============================] - 29s 19ms/step - loss: 0.5196 - accuracy: 0.7895 - val_loss: 0.4690 - val_accuracy: 0.7985\n",
      "Epoch 5/5\n",
      "1504/1504 [==============================] - 28s 19ms/step - loss: 0.2613 - accuracy: 0.9094 - val_loss: 0.2747 - val_accuracy: 0.9083\n"
     ]
    }
   ],
   "source": [
    "history_lstm = model_lstm.fit(X_train, y_train,epochs=5,validation_split=0.1)"
   ]
  },
  {
   "cell_type": "markdown",
   "metadata": {
    "id": "zQkLbNvBdhGk"
   },
   "source": [
    "We can notice that the LSTM model might require more epochs than our CNN to reach validation accuracies greater than 95% : the first epoch ouputs a low validation set accuracy, whereas our CNN starts off with a much higher one in its early training epochs."
   ]
  },
  {
   "cell_type": "code",
   "execution_count": 22,
   "metadata": {
    "colab": {
     "base_uri": "https://localhost:8080/"
    },
    "id": "Bz4h4Iktd5tW",
    "outputId": "e09567ce-0c3c-4b74-bffc-ad69c8b01329"
   },
   "outputs": [
    {
     "name": "stdout",
     "output_type": "stream",
     "text": [
      "418/418 [==============================] - 3s 7ms/step - loss: 0.2821 - accuracy: 0.9092\n"
     ]
    },
    {
     "data": {
      "text/plain": [
       "[0.28206199407577515, 0.9092201590538025]"
      ]
     },
     "execution_count": 22,
     "metadata": {},
     "output_type": "execute_result"
    }
   ],
   "source": [
    "model_lstm.evaluate(X_test, y_test)"
   ]
  },
  {
   "cell_type": "markdown",
   "metadata": {
    "id": "2CKW8aJnwdL8"
   },
   "source": [
    "We have chosen to set the number of neurons to 128, as 64 and 256 had worse performances."
   ]
  },
  {
   "cell_type": "markdown",
   "metadata": {
    "id": "r-o-QeuMqGLv"
   },
   "source": [
    "### Bidirectional LSTM\n",
    "\n",
    "Using a bidirectional model able to use information from both the past and the future might improve our performances."
   ]
  },
  {
   "cell_type": "code",
   "execution_count": 23,
   "metadata": {
    "id": "mUtfyzwHqTfp"
   },
   "outputs": [],
   "source": [
    "from keras.layers import Bidirectional\n",
    "\n",
    "model_bilstm = Sequential()\n",
    "model_bilstm.add(Embedding(input_dim=vocab_size,output_dim=embedding_dim,input_length=max_length))\n",
    "model_bilstm.add(Bidirectional(LSTM(units=128)))\n",
    "model_bilstm.add(Dense(num_classes,activation='softmax'))\n",
    "\n",
    "model_bilstm.compile(optimizer='adam',loss='categorical_crossentropy',metrics=['accuracy']) "
   ]
  },
  {
   "cell_type": "code",
   "execution_count": 24,
   "metadata": {
    "colab": {
     "base_uri": "https://localhost:8080/"
    },
    "id": "9JUcuzcVq47l",
    "outputId": "6046fe78-fcac-4253-b845-f81323232f84"
   },
   "outputs": [
    {
     "name": "stdout",
     "output_type": "stream",
     "text": [
      "Epoch 1/5\n",
      "1504/1504 [==============================] - 99s 63ms/step - loss: 0.2981 - accuracy: 0.9113 - val_loss: 0.1684 - val_accuracy: 0.9459\n",
      "Epoch 2/5\n",
      "1504/1504 [==============================] - 52s 35ms/step - loss: 0.1337 - accuracy: 0.9583 - val_loss: 0.1578 - val_accuracy: 0.9514\n",
      "Epoch 3/5\n",
      "1504/1504 [==============================] - 50s 33ms/step - loss: 0.0762 - accuracy: 0.9764 - val_loss: 0.1709 - val_accuracy: 0.9491\n",
      "Epoch 4/5\n",
      "1504/1504 [==============================] - 47s 31ms/step - loss: 0.0471 - accuracy: 0.9852 - val_loss: 0.1629 - val_accuracy: 0.9512\n",
      "Epoch 5/5\n",
      "1504/1504 [==============================] - 47s 31ms/step - loss: 0.0268 - accuracy: 0.9925 - val_loss: 0.1773 - val_accuracy: 0.9555\n"
     ]
    }
   ],
   "source": [
    "history_bilstm = model_bilstm.fit(X_train, y_train,epochs=5, validation_split=0.1)"
   ]
  },
  {
   "cell_type": "code",
   "execution_count": 25,
   "metadata": {
    "colab": {
     "base_uri": "https://localhost:8080/"
    },
    "id": "KhQuTvQlq7MG",
    "outputId": "ef81e82d-7df5-4659-d1bd-f401ad5f5aec"
   },
   "outputs": [
    {
     "name": "stdout",
     "output_type": "stream",
     "text": [
      "418/418 [==============================] - 5s 12ms/step - loss: 0.1835 - accuracy: 0.9540\n"
     ]
    },
    {
     "data": {
      "text/plain": [
       "[0.18345379829406738, 0.9540488123893738]"
      ]
     },
     "execution_count": 25,
     "metadata": {},
     "output_type": "execute_result"
    }
   ],
   "source": [
    "model_bilstm.evaluate(X_test, y_test)"
   ]
  },
  {
   "cell_type": "markdown",
   "metadata": {
    "id": "kuJUTKxSAIJC"
   },
   "source": [
    "## Pre-trained Model (BERT)\n",
    "\n",
    "Finally, we use a Tensorflow Hugging Face transformer for our classification task. We will be using the uncased BERT pre-trained model as our dataset only contains lower case characters."
   ]
  },
  {
   "cell_type": "code",
   "execution_count": 26,
   "metadata": {
    "colab": {
     "base_uri": "https://localhost:8080/"
    },
    "id": "a7tXlQ6EkNX5",
    "outputId": "d546021e-165b-4841-988b-8f1467a5dec3"
   },
   "outputs": [
    {
     "name": "stdout",
     "output_type": "stream",
     "text": [
      "Looking in indexes: https://pypi.org/simple, https://us-python.pkg.dev/colab-wheels/public/simple/\n",
      "Collecting transformers\n",
      "  Downloading transformers-4.27.0-py3-none-any.whl (6.8 MB)\n",
      "\u001b[2K     \u001b[90m━━━━━━━━━━━━━━━━━━━━━━━━━━━━━━━━━━━━━━━━\u001b[0m \u001b[32m6.8/6.8 MB\u001b[0m \u001b[31m81.9 MB/s\u001b[0m eta \u001b[36m0:00:00\u001b[0m\n",
      "\u001b[?25hCollecting tokenizers!=0.11.3,<0.14,>=0.11.1\n",
      "  Downloading tokenizers-0.13.2-cp39-cp39-manylinux_2_17_x86_64.manylinux2014_x86_64.whl (7.6 MB)\n",
      "\u001b[2K     \u001b[90m━━━━━━━━━━━━━━━━━━━━━━━━━━━━━━━━━━━━━━━━\u001b[0m \u001b[32m7.6/7.6 MB\u001b[0m \u001b[31m103.8 MB/s\u001b[0m eta \u001b[36m0:00:00\u001b[0m\n",
      "\u001b[?25hRequirement already satisfied: filelock in /usr/local/lib/python3.9/dist-packages (from transformers) (3.9.0)\n",
      "Requirement already satisfied: packaging>=20.0 in /usr/local/lib/python3.9/dist-packages (from transformers) (23.0)\n",
      "Requirement already satisfied: regex!=2019.12.17 in /usr/local/lib/python3.9/dist-packages (from transformers) (2022.6.2)\n",
      "Collecting huggingface-hub<1.0,>=0.11.0\n",
      "  Downloading huggingface_hub-0.13.2-py3-none-any.whl (199 kB)\n",
      "\u001b[2K     \u001b[90m━━━━━━━━━━━━━━━━━━━━━━━━━━━━━━━━━━━━━━\u001b[0m \u001b[32m199.2/199.2 KB\u001b[0m \u001b[31m30.0 MB/s\u001b[0m eta \u001b[36m0:00:00\u001b[0m\n",
      "\u001b[?25hRequirement already satisfied: tqdm>=4.27 in /usr/local/lib/python3.9/dist-packages (from transformers) (4.65.0)\n",
      "Requirement already satisfied: requests in /usr/local/lib/python3.9/dist-packages (from transformers) (2.25.1)\n",
      "Requirement already satisfied: pyyaml>=5.1 in /usr/local/lib/python3.9/dist-packages (from transformers) (6.0)\n",
      "Requirement already satisfied: numpy>=1.17 in /usr/local/lib/python3.9/dist-packages (from transformers) (1.22.4)\n",
      "Requirement already satisfied: typing-extensions>=3.7.4.3 in /usr/local/lib/python3.9/dist-packages (from huggingface-hub<1.0,>=0.11.0->transformers) (4.5.0)\n",
      "Requirement already satisfied: idna<3,>=2.5 in /usr/local/lib/python3.9/dist-packages (from requests->transformers) (2.10)\n",
      "Requirement already satisfied: chardet<5,>=3.0.2 in /usr/local/lib/python3.9/dist-packages (from requests->transformers) (4.0.0)\n",
      "Requirement already satisfied: certifi>=2017.4.17 in /usr/local/lib/python3.9/dist-packages (from requests->transformers) (2022.12.7)\n",
      "Requirement already satisfied: urllib3<1.27,>=1.21.1 in /usr/local/lib/python3.9/dist-packages (from requests->transformers) (1.26.15)\n",
      "Installing collected packages: tokenizers, huggingface-hub, transformers\n",
      "Successfully installed huggingface-hub-0.13.2 tokenizers-0.13.2 transformers-4.27.0\n"
     ]
    }
   ],
   "source": [
    "!pip install transformers"
   ]
  },
  {
   "cell_type": "markdown",
   "metadata": {
    "id": "I0hXtCQalP4x"
   },
   "source": [
    "### Getting Hugging Face datasets"
   ]
  },
  {
   "cell_type": "code",
   "execution_count": 27,
   "metadata": {
    "colab": {
     "base_uri": "https://localhost:8080/"
    },
    "id": "d50NsFw9l7CI",
    "outputId": "ed6e1abc-4361-4746-822f-7c7f3e43a1b1"
   },
   "outputs": [
    {
     "name": "stdout",
     "output_type": "stream",
     "text": [
      "Looking in indexes: https://pypi.org/simple, https://us-python.pkg.dev/colab-wheels/public/simple/\n",
      "Collecting datasets\n",
      "  Downloading datasets-2.10.1-py3-none-any.whl (469 kB)\n",
      "\u001b[2K     \u001b[90m━━━━━━━━━━━━━━━━━━━━━━━━━━━━━━━━━━━━━━━\u001b[0m \u001b[32m469.0/469.0 KB\u001b[0m \u001b[31m8.2 MB/s\u001b[0m eta \u001b[36m0:00:00\u001b[0m\n",
      "\u001b[?25hCollecting dill<0.3.7,>=0.3.0\n",
      "  Downloading dill-0.3.6-py3-none-any.whl (110 kB)\n",
      "\u001b[2K     \u001b[90m━━━━━━━━━━━━━━━━━━━━━━━━━━━━━━━━━━━━━━\u001b[0m \u001b[32m110.5/110.5 KB\u001b[0m \u001b[31m12.2 MB/s\u001b[0m eta \u001b[36m0:00:00\u001b[0m\n",
      "\u001b[?25hRequirement already satisfied: fsspec[http]>=2021.11.1 in /usr/local/lib/python3.9/dist-packages (from datasets) (2023.3.0)\n",
      "Collecting responses<0.19\n",
      "  Downloading responses-0.18.0-py3-none-any.whl (38 kB)\n",
      "Requirement already satisfied: numpy>=1.17 in /usr/local/lib/python3.9/dist-packages (from datasets) (1.22.4)\n",
      "Requirement already satisfied: huggingface-hub<1.0.0,>=0.2.0 in /usr/local/lib/python3.9/dist-packages (from datasets) (0.13.2)\n",
      "Requirement already satisfied: requests>=2.19.0 in /usr/local/lib/python3.9/dist-packages (from datasets) (2.25.1)\n",
      "Collecting xxhash\n",
      "  Downloading xxhash-3.2.0-cp39-cp39-manylinux_2_17_x86_64.manylinux2014_x86_64.whl (212 kB)\n",
      "\u001b[2K     \u001b[90m━━━━━━━━━━━━━━━━━━━━━━━━━━━━━━━━━━━━━━\u001b[0m \u001b[32m212.2/212.2 KB\u001b[0m \u001b[31m24.8 MB/s\u001b[0m eta \u001b[36m0:00:00\u001b[0m\n",
      "\u001b[?25hCollecting multiprocess\n",
      "  Downloading multiprocess-0.70.14-py39-none-any.whl (132 kB)\n",
      "\u001b[2K     \u001b[90m━━━━━━━━━━━━━━━━━━━━━━━━━━━━━━━━━━━━━━\u001b[0m \u001b[32m132.9/132.9 KB\u001b[0m \u001b[31m20.4 MB/s\u001b[0m eta \u001b[36m0:00:00\u001b[0m\n",
      "\u001b[?25hRequirement already satisfied: pyyaml>=5.1 in /usr/local/lib/python3.9/dist-packages (from datasets) (6.0)\n",
      "Requirement already satisfied: tqdm>=4.62.1 in /usr/local/lib/python3.9/dist-packages (from datasets) (4.65.0)\n",
      "Requirement already satisfied: packaging in /usr/local/lib/python3.9/dist-packages (from datasets) (23.0)\n",
      "Collecting aiohttp\n",
      "  Downloading aiohttp-3.8.4-cp39-cp39-manylinux_2_17_x86_64.manylinux2014_x86_64.whl (1.0 MB)\n",
      "\u001b[2K     \u001b[90m━━━━━━━━━━━━━━━━━━━━━━━━━━━━━━━━━━━━━━━━\u001b[0m \u001b[32m1.0/1.0 MB\u001b[0m \u001b[31m61.1 MB/s\u001b[0m eta \u001b[36m0:00:00\u001b[0m\n",
      "\u001b[?25hRequirement already satisfied: pandas in /usr/local/lib/python3.9/dist-packages (from datasets) (1.4.4)\n",
      "Requirement already satisfied: pyarrow>=6.0.0 in /usr/local/lib/python3.9/dist-packages (from datasets) (9.0.0)\n",
      "Collecting yarl<2.0,>=1.0\n",
      "  Downloading yarl-1.8.2-cp39-cp39-manylinux_2_17_x86_64.manylinux2014_x86_64.whl (264 kB)\n",
      "\u001b[2K     \u001b[90m━━━━━━━━━━━━━━━━━━━━━━━━━━━━━━━━━━━━━━\u001b[0m \u001b[32m264.6/264.6 KB\u001b[0m \u001b[31m26.2 MB/s\u001b[0m eta \u001b[36m0:00:00\u001b[0m\n",
      "\u001b[?25hRequirement already satisfied: attrs>=17.3.0 in /usr/local/lib/python3.9/dist-packages (from aiohttp->datasets) (22.2.0)\n",
      "Collecting multidict<7.0,>=4.5\n",
      "  Downloading multidict-6.0.4-cp39-cp39-manylinux_2_17_x86_64.manylinux2014_x86_64.whl (114 kB)\n",
      "\u001b[2K     \u001b[90m━━━━━━━━━━━━━━━━━━━━━━━━━━━━━━━━━━━━━━\u001b[0m \u001b[32m114.2/114.2 KB\u001b[0m \u001b[31m14.7 MB/s\u001b[0m eta \u001b[36m0:00:00\u001b[0m\n",
      "\u001b[?25hCollecting charset-normalizer<4.0,>=2.0\n",
      "  Downloading charset_normalizer-3.1.0-cp39-cp39-manylinux_2_17_x86_64.manylinux2014_x86_64.whl (199 kB)\n",
      "\u001b[2K     \u001b[90m━━━━━━━━━━━━━━━━━━━━━━━━━━━━━━━━━━━━━━\u001b[0m \u001b[32m199.2/199.2 KB\u001b[0m \u001b[31m28.9 MB/s\u001b[0m eta \u001b[36m0:00:00\u001b[0m\n",
      "\u001b[?25hCollecting frozenlist>=1.1.1\n",
      "  Downloading frozenlist-1.3.3-cp39-cp39-manylinux_2_5_x86_64.manylinux1_x86_64.manylinux_2_17_x86_64.manylinux2014_x86_64.whl (158 kB)\n",
      "\u001b[2K     \u001b[90m━━━━━━━━━━━━━━━━━━━━━━━━━━━━━━━━━━━━━━\u001b[0m \u001b[32m158.8/158.8 KB\u001b[0m \u001b[31m24.2 MB/s\u001b[0m eta \u001b[36m0:00:00\u001b[0m\n",
      "\u001b[?25hCollecting aiosignal>=1.1.2\n",
      "  Downloading aiosignal-1.3.1-py3-none-any.whl (7.6 kB)\n",
      "Collecting async-timeout<5.0,>=4.0.0a3\n",
      "  Downloading async_timeout-4.0.2-py3-none-any.whl (5.8 kB)\n",
      "Requirement already satisfied: typing-extensions>=3.7.4.3 in /usr/local/lib/python3.9/dist-packages (from huggingface-hub<1.0.0,>=0.2.0->datasets) (4.5.0)\n",
      "Requirement already satisfied: filelock in /usr/local/lib/python3.9/dist-packages (from huggingface-hub<1.0.0,>=0.2.0->datasets) (3.9.0)\n",
      "Requirement already satisfied: certifi>=2017.4.17 in /usr/local/lib/python3.9/dist-packages (from requests>=2.19.0->datasets) (2022.12.7)\n",
      "Requirement already satisfied: idna<3,>=2.5 in /usr/local/lib/python3.9/dist-packages (from requests>=2.19.0->datasets) (2.10)\n",
      "Requirement already satisfied: urllib3<1.27,>=1.21.1 in /usr/local/lib/python3.9/dist-packages (from requests>=2.19.0->datasets) (1.26.15)\n",
      "Requirement already satisfied: chardet<5,>=3.0.2 in /usr/local/lib/python3.9/dist-packages (from requests>=2.19.0->datasets) (4.0.0)\n",
      "Requirement already satisfied: python-dateutil>=2.8.1 in /usr/local/lib/python3.9/dist-packages (from pandas->datasets) (2.8.2)\n",
      "Requirement already satisfied: pytz>=2020.1 in /usr/local/lib/python3.9/dist-packages (from pandas->datasets) (2022.7.1)\n",
      "Requirement already satisfied: six>=1.5 in /usr/local/lib/python3.9/dist-packages (from python-dateutil>=2.8.1->pandas->datasets) (1.15.0)\n",
      "Installing collected packages: xxhash, multidict, frozenlist, dill, charset-normalizer, async-timeout, yarl, responses, multiprocess, aiosignal, aiohttp, datasets\n",
      "Successfully installed aiohttp-3.8.4 aiosignal-1.3.1 async-timeout-4.0.2 charset-normalizer-3.1.0 datasets-2.10.1 dill-0.3.6 frozenlist-1.3.3 multidict-6.0.4 multiprocess-0.70.14 responses-0.18.0 xxhash-3.2.0 yarl-1.8.2\n"
     ]
    }
   ],
   "source": [
    "!pip install datasets  #Only if you are in colab. dataset is already installed in kaggle  \n"
   ]
  },
  {
   "cell_type": "code",
   "execution_count": 28,
   "metadata": {
    "colab": {
     "base_uri": "https://localhost:8080/",
     "height": 326
    },
    "id": "wjDwJeBongGb",
    "outputId": "f105bdc1-17f9-457c-94f5-763fdfb7d02d"
   },
   "outputs": [
    {
     "name": "stderr",
     "output_type": "stream",
     "text": [
      "<ipython-input-28-07f735659641>:6: SettingWithCopyWarning: \n",
      "A value is trying to be set on a copy of a slice from a DataFrame.\n",
      "Try using .loc[row_indexer,col_indexer] = value instead\n",
      "\n",
      "See the caveats in the documentation: https://pandas.pydata.org/pandas-docs/stable/user_guide/indexing.html#returning-a-view-versus-a-copy\n",
      "  complaints_HF['target_encoded'] = le_HF.transform(complaints_HF['product'])\n"
     ]
    },
    {
     "data": {
      "text/html": [
       "\n",
       "  <div id=\"df-f8ba1f3f-32cc-4628-9bd2-c29de6eb7904\">\n",
       "    <div class=\"colab-df-container\">\n",
       "      <div>\n",
       "<style scoped>\n",
       "    .dataframe tbody tr th:only-of-type {\n",
       "        vertical-align: middle;\n",
       "    }\n",
       "\n",
       "    .dataframe tbody tr th {\n",
       "        vertical-align: top;\n",
       "    }\n",
       "\n",
       "    .dataframe thead th {\n",
       "        text-align: right;\n",
       "    }\n",
       "</style>\n",
       "<table border=\"1\" class=\"dataframe\">\n",
       "  <thead>\n",
       "    <tr style=\"text-align: right;\">\n",
       "      <th></th>\n",
       "      <th>product</th>\n",
       "      <th>whole_complaint</th>\n",
       "      <th>target_encoded</th>\n",
       "    </tr>\n",
       "  </thead>\n",
       "  <tbody>\n",
       "    <tr>\n",
       "      <th>0</th>\n",
       "      <td>Debt collection</td>\n",
       "      <td>contd attempts collect debt not owed xxxx has ...</td>\n",
       "      <td>4</td>\n",
       "    </tr>\n",
       "    <tr>\n",
       "      <th>1</th>\n",
       "      <td>Consumer Loan</td>\n",
       "      <td>managing the loan or lease due to inconsistenc...</td>\n",
       "      <td>1</td>\n",
       "    </tr>\n",
       "    <tr>\n",
       "      <th>2</th>\n",
       "      <td>Mortgage</td>\n",
       "      <td>loan modificationcollectionforeclosure in xxxx...</td>\n",
       "      <td>6</td>\n",
       "    </tr>\n",
       "    <tr>\n",
       "      <th>3</th>\n",
       "      <td>Mortgage</td>\n",
       "      <td>loan servicing payments escrow account i have ...</td>\n",
       "      <td>6</td>\n",
       "    </tr>\n",
       "    <tr>\n",
       "      <th>4</th>\n",
       "      <td>Mortgage</td>\n",
       "      <td>credit decision  underwriting xxxx was submitt...</td>\n",
       "      <td>6</td>\n",
       "    </tr>\n",
       "  </tbody>\n",
       "</table>\n",
       "</div>\n",
       "      <button class=\"colab-df-convert\" onclick=\"convertToInteractive('df-f8ba1f3f-32cc-4628-9bd2-c29de6eb7904')\"\n",
       "              title=\"Convert this dataframe to an interactive table.\"\n",
       "              style=\"display:none;\">\n",
       "        \n",
       "  <svg xmlns=\"http://www.w3.org/2000/svg\" height=\"24px\"viewBox=\"0 0 24 24\"\n",
       "       width=\"24px\">\n",
       "    <path d=\"M0 0h24v24H0V0z\" fill=\"none\"/>\n",
       "    <path d=\"M18.56 5.44l.94 2.06.94-2.06 2.06-.94-2.06-.94-.94-2.06-.94 2.06-2.06.94zm-11 1L8.5 8.5l.94-2.06 2.06-.94-2.06-.94L8.5 2.5l-.94 2.06-2.06.94zm10 10l.94 2.06.94-2.06 2.06-.94-2.06-.94-.94-2.06-.94 2.06-2.06.94z\"/><path d=\"M17.41 7.96l-1.37-1.37c-.4-.4-.92-.59-1.43-.59-.52 0-1.04.2-1.43.59L10.3 9.45l-7.72 7.72c-.78.78-.78 2.05 0 2.83L4 21.41c.39.39.9.59 1.41.59.51 0 1.02-.2 1.41-.59l7.78-7.78 2.81-2.81c.8-.78.8-2.07 0-2.86zM5.41 20L4 18.59l7.72-7.72 1.47 1.35L5.41 20z\"/>\n",
       "  </svg>\n",
       "      </button>\n",
       "      \n",
       "  <style>\n",
       "    .colab-df-container {\n",
       "      display:flex;\n",
       "      flex-wrap:wrap;\n",
       "      gap: 12px;\n",
       "    }\n",
       "\n",
       "    .colab-df-convert {\n",
       "      background-color: #E8F0FE;\n",
       "      border: none;\n",
       "      border-radius: 50%;\n",
       "      cursor: pointer;\n",
       "      display: none;\n",
       "      fill: #1967D2;\n",
       "      height: 32px;\n",
       "      padding: 0 0 0 0;\n",
       "      width: 32px;\n",
       "    }\n",
       "\n",
       "    .colab-df-convert:hover {\n",
       "      background-color: #E2EBFA;\n",
       "      box-shadow: 0px 1px 2px rgba(60, 64, 67, 0.3), 0px 1px 3px 1px rgba(60, 64, 67, 0.15);\n",
       "      fill: #174EA6;\n",
       "    }\n",
       "\n",
       "    [theme=dark] .colab-df-convert {\n",
       "      background-color: #3B4455;\n",
       "      fill: #D2E3FC;\n",
       "    }\n",
       "\n",
       "    [theme=dark] .colab-df-convert:hover {\n",
       "      background-color: #434B5C;\n",
       "      box-shadow: 0px 1px 3px 1px rgba(0, 0, 0, 0.15);\n",
       "      filter: drop-shadow(0px 1px 2px rgba(0, 0, 0, 0.3));\n",
       "      fill: #FFFFFF;\n",
       "    }\n",
       "  </style>\n",
       "\n",
       "      <script>\n",
       "        const buttonEl =\n",
       "          document.querySelector('#df-f8ba1f3f-32cc-4628-9bd2-c29de6eb7904 button.colab-df-convert');\n",
       "        buttonEl.style.display =\n",
       "          google.colab.kernel.accessAllowed ? 'block' : 'none';\n",
       "\n",
       "        async function convertToInteractive(key) {\n",
       "          const element = document.querySelector('#df-f8ba1f3f-32cc-4628-9bd2-c29de6eb7904');\n",
       "          const dataTable =\n",
       "            await google.colab.kernel.invokeFunction('convertToInteractive',\n",
       "                                                     [key], {});\n",
       "          if (!dataTable) return;\n",
       "\n",
       "          const docLinkHtml = 'Like what you see? Visit the ' +\n",
       "            '<a target=\"_blank\" href=https://colab.research.google.com/notebooks/data_table.ipynb>data table notebook</a>'\n",
       "            + ' to learn more about interactive tables.';\n",
       "          element.innerHTML = '';\n",
       "          dataTable['output_type'] = 'display_data';\n",
       "          await google.colab.output.renderOutput(dataTable, element);\n",
       "          const docLink = document.createElement('div');\n",
       "          docLink.innerHTML = docLinkHtml;\n",
       "          element.appendChild(docLink);\n",
       "        }\n",
       "      </script>\n",
       "    </div>\n",
       "  </div>\n",
       "  "
      ],
      "text/plain": [
       "           product                                    whole_complaint  \\\n",
       "0  Debt collection  contd attempts collect debt not owed xxxx has ...   \n",
       "1    Consumer Loan  managing the loan or lease due to inconsistenc...   \n",
       "2         Mortgage  loan modificationcollectionforeclosure in xxxx...   \n",
       "3         Mortgage  loan servicing payments escrow account i have ...   \n",
       "4         Mortgage  credit decision  underwriting xxxx was submitt...   \n",
       "\n",
       "   target_encoded  \n",
       "0               4  \n",
       "1               1  \n",
       "2               6  \n",
       "3               6  \n",
       "4               6  "
      ]
     },
     "execution_count": 28,
     "metadata": {},
     "output_type": "execute_result"
    }
   ],
   "source": [
    "complaints_HF = complaints[['product','whole_complaint']]\n",
    "\n",
    "# Encoding the labels\n",
    "le_HF = LabelEncoder()\n",
    "le_HF.fit(complaints_HF['product'].unique())\n",
    "complaints_HF['target_encoded'] = le_HF.transform(complaints_HF['product'])\n",
    "\n",
    "complaints_HF.head()"
   ]
  },
  {
   "cell_type": "code",
   "execution_count": 29,
   "metadata": {
    "id": "8StEPt3blPVs"
   },
   "outputs": [],
   "source": [
    "from datasets import load_dataset\n",
    "from datasets import Dataset\n",
    "from datasets import DatasetDict\n",
    "\n",
    "# Secondly, we convert the pandas dataset into a hugging-face dataset\n",
    "dataset = Dataset.from_pandas(complaints_HF)\n",
    "dataset_train_test = dataset.train_test_split(test_size=0.20)\n"
   ]
  },
  {
   "cell_type": "code",
   "execution_count": 30,
   "metadata": {
    "colab": {
     "base_uri": "https://localhost:8080/"
    },
    "id": "_Z9DZa04_rXV",
    "outputId": "403d4fbb-3456-4fce-8246-4aac7d7a64ad"
   },
   "outputs": [
    {
     "data": {
      "text/plain": [
       "DatasetDict({\n",
       "    train: Dataset({\n",
       "        features: ['product', 'whole_complaint', 'target_encoded'],\n",
       "        num_rows: 53444\n",
       "    })\n",
       "    test: Dataset({\n",
       "        features: ['product', 'whole_complaint', 'target_encoded'],\n",
       "        num_rows: 13362\n",
       "    })\n",
       "})"
      ]
     },
     "execution_count": 30,
     "metadata": {},
     "output_type": "execute_result"
    }
   ],
   "source": [
    "dataset_train_test"
   ]
  },
  {
   "cell_type": "markdown",
   "metadata": {
    "id": "B_7fNiWnk4qR"
   },
   "source": [
    "### Tokenization for BERT"
   ]
  },
  {
   "cell_type": "code",
   "execution_count": 31,
   "metadata": {
    "colab": {
     "base_uri": "https://localhost:8080/",
     "height": 145,
     "referenced_widgets": [
      "3695a6584f32469a96922e421ceae357",
      "ffd7deef412c46d1bc4b9bf4deb126c0",
      "56798370a57c4a459dab1f99f5482d39",
      "dd349e0098104939a9b137fcc8a0f510",
      "b05c86dc76484aaa85ea8cc510297ff7",
      "e8f58c40d087477092c334054d504f89",
      "ebe4ddca4f3246c3b9ab1b98cb6a15e1",
      "7292eff48bcc4530bd6a8013e2b90c34",
      "bfd33228ab994fa7bcf3d902be7ad761",
      "d2ba610030734a818a7bd3222f518dce",
      "cee23181663947698512c9919715888b",
      "889d25ca93ed430c8c7323495efe03e8",
      "063efbae454442a1b491f9a580154cac",
      "04162afe02814894874c425087133f16",
      "fe3fa96c23364c3fa15ebb54fb2f3a50",
      "467505865ad7441ab78e1740cc948427",
      "e3985e10e6df4a899091f578c5d8bcde",
      "8a47c2b91c0440f685f05bf872e52729",
      "76e7908b685941b4986640620ab51f09",
      "25ffb1b70ee0427f98da059546d78cdd",
      "6b61b97c63c64a8a82c6219bbefd2efa",
      "555314cf32ec4cf8b2013e1b7e1db42a",
      "275eddc571674c4f8acaac1bfbcf418b",
      "780f393c447846e29af7b5fc96ff6482",
      "e6ae3c51448843a2af185520ae8496b3",
      "c407f62f0f3e4e86961070c209acc478",
      "37a9203234d941c9b2d7c5ebcab41454",
      "090e87bf3dbe44e4a58a77062a1aa213",
      "7fffd089481a49cfb50fd0300cf7c371",
      "2aeff27bcd26415db5a9a71298e9d597",
      "e04af98d187d4a3dad77111dfb808311",
      "7f998b1bbe7a489f8d271cb3309cbf13",
      "a7c385c56ba7454ba8004694e673594e",
      "dbb666496e1e44a493fd1b3d7e639f27",
      "ca74de0d965b4311bf0c0eba42c1d506",
      "ee81f725b0874d7487f7a27e58a3042a",
      "a784f7fb05f64658bfbff575266d003e",
      "c25284cbaa03473fbb3e3cbde27b00a9",
      "33990b29c706494a9c8f44546721b917",
      "d6fe161c347d430ba6d3e8d6284f0704",
      "c705b802d683407c990026c53832b554",
      "5de3bceb1fc94f6db78e3e334f44aac1",
      "38d35d0db2374b4c920d6d2e38aebd58",
      "4d6926660f8942bb9e0bed8485271acf",
      "74969ea18079428eb7a5c73115dea5b8",
      "a4ab0b0d23e24645ad6467f299899942",
      "fc8a0d7ecb664e90b3377d2e30b8be7d",
      "f3279339c8d9465e842efbe64308a3d2",
      "a537b5d1f32b41d190850f81b76c71c7",
      "4edefa3e325643dcad94588e7abd462a",
      "dca13e954c614a35a4114c120870047d",
      "afcbe9d03ae44ab1af5a248495a87226",
      "15007f10bfd442c199804530861a425b",
      "bdc8b1553ff04a6fb44adc91ac5e2884",
      "470c7e48e3414ea09faa87345760efc0",
      "070c7c25d76f418fb77db74630da0167",
      "42bd90d43da849a585dabb1ba62049d3",
      "4282680fbe414e1fbd81130eb346574c",
      "1f00deaac07242098f28c5f0739b3344",
      "c0e4d0c5beb44b5eac0f1ad050b5b9b3",
      "a3725509994a46a9b19293811a1e23d1",
      "ddf3cf29a8cb476794b665b3020100ee",
      "43411a690ca648bb9bbd30dfaa893ea5",
      "a7f5245e809d469dab26536444183630",
      "0da95348cb924bd69ce28b979dd18134",
      "80015f4dab794636937e659ba0325bf0"
     ]
    },
    "id": "RavWOXFek4Ha",
    "outputId": "74feccbe-f8ba-4e89-872b-9d07313be14d"
   },
   "outputs": [
    {
     "data": {
      "application/vnd.jupyter.widget-view+json": {
       "model_id": "3695a6584f32469a96922e421ceae357",
       "version_major": 2,
       "version_minor": 0
      },
      "text/plain": [
       "Downloading (…)okenizer_config.json:   0%|          | 0.00/28.0 [00:00<?, ?B/s]"
      ]
     },
     "metadata": {},
     "output_type": "display_data"
    },
    {
     "data": {
      "application/vnd.jupyter.widget-view+json": {
       "model_id": "889d25ca93ed430c8c7323495efe03e8",
       "version_major": 2,
       "version_minor": 0
      },
      "text/plain": [
       "Downloading (…)lve/main/config.json:   0%|          | 0.00/570 [00:00<?, ?B/s]"
      ]
     },
     "metadata": {},
     "output_type": "display_data"
    },
    {
     "data": {
      "application/vnd.jupyter.widget-view+json": {
       "model_id": "275eddc571674c4f8acaac1bfbcf418b",
       "version_major": 2,
       "version_minor": 0
      },
      "text/plain": [
       "Downloading (…)solve/main/vocab.txt:   0%|          | 0.00/232k [00:00<?, ?B/s]"
      ]
     },
     "metadata": {},
     "output_type": "display_data"
    },
    {
     "data": {
      "application/vnd.jupyter.widget-view+json": {
       "model_id": "dbb666496e1e44a493fd1b3d7e639f27",
       "version_major": 2,
       "version_minor": 0
      },
      "text/plain": [
       "Downloading (…)/main/tokenizer.json:   0%|          | 0.00/466k [00:00<?, ?B/s]"
      ]
     },
     "metadata": {},
     "output_type": "display_data"
    },
    {
     "data": {
      "application/vnd.jupyter.widget-view+json": {
       "model_id": "74969ea18079428eb7a5c73115dea5b8",
       "version_major": 2,
       "version_minor": 0
      },
      "text/plain": [
       "Map:   0%|          | 0/53444 [00:00<?, ? examples/s]"
      ]
     },
     "metadata": {},
     "output_type": "display_data"
    },
    {
     "data": {
      "application/vnd.jupyter.widget-view+json": {
       "model_id": "070c7c25d76f418fb77db74630da0167",
       "version_major": 2,
       "version_minor": 0
      },
      "text/plain": [
       "Map:   0%|          | 0/13362 [00:00<?, ? examples/s]"
      ]
     },
     "metadata": {},
     "output_type": "display_data"
    }
   ],
   "source": [
    "from transformers import AutoTokenizer\n",
    "tokenizer_HF = AutoTokenizer.from_pretrained(\"bert-base-uncased\")\n",
    "\n",
    "# We vectorize the texts from the emails\n",
    "def tokenize_function(examples):\n",
    "    return tokenizer_HF(examples[\"whole_complaint\"], padding=\"max_length\", truncation=True)\n",
    "\n",
    "tokenized_datasets = dataset_train_test.map(tokenize_function, batched=True)"
   ]
  },
  {
   "cell_type": "code",
   "execution_count": 32,
   "metadata": {
    "colab": {
     "base_uri": "https://localhost:8080/"
    },
    "id": "h8ovnG13Ax-G",
    "outputId": "423aff41-187d-4114-8438-f05ed1d17e07"
   },
   "outputs": [
    {
     "data": {
      "text/plain": [
       "DatasetDict({\n",
       "    train: Dataset({\n",
       "        features: ['product', 'whole_complaint', 'target_encoded', 'input_ids', 'token_type_ids', 'attention_mask'],\n",
       "        num_rows: 53444\n",
       "    })\n",
       "    test: Dataset({\n",
       "        features: ['product', 'whole_complaint', 'target_encoded', 'input_ids', 'token_type_ids', 'attention_mask'],\n",
       "        num_rows: 13362\n",
       "    })\n",
       "})"
      ]
     },
     "execution_count": 32,
     "metadata": {},
     "output_type": "execute_result"
    }
   ],
   "source": [
    "tokenized_datasets"
   ]
  },
  {
   "cell_type": "code",
   "execution_count": 33,
   "metadata": {
    "id": "60in0thuA0C8"
   },
   "outputs": [],
   "source": [
    "train_dataset = tokenized_datasets['train']\n",
    "test_dataset = tokenized_datasets['test']  \n",
    "tf_train_dataset = train_dataset.remove_columns([\"whole_complaint\"]).with_format(\"tensorflow\")\n",
    "tf_test_dataset = test_dataset.remove_columns([\"whole_complaint\"]).with_format(\"tensorflow\")"
   ]
  },
  {
   "cell_type": "code",
   "execution_count": 34,
   "metadata": {
    "id": "ppL9nCzAA77a"
   },
   "outputs": [],
   "source": [
    "import tensorflow as tf\n",
    "train_features = {x: tf_train_dataset[x] for x in tokenizer_HF.model_input_names}\n",
    "train_tf_dataset = tf.data.Dataset.from_tensor_slices((train_features, tf_train_dataset[\"target_encoded\"]))\n",
    "train_tf_dataset = train_tf_dataset.shuffle(len(tf_train_dataset)).batch(8)\n",
    "\n",
    "test_features = {x: tf_test_dataset[x] for x in tokenizer_HF.model_input_names}\n",
    "test_tf_dataset = tf.data.Dataset.from_tensor_slices((test_features, tf_test_dataset[\"target_encoded\"]))\n",
    "test_tf_dataset = test_tf_dataset.batch(8)"
   ]
  },
  {
   "cell_type": "markdown",
   "metadata": {
    "id": "eaf7GQ04nZYe"
   },
   "source": [
    "### Training the model"
   ]
  },
  {
   "cell_type": "code",
   "execution_count": 35,
   "metadata": {
    "colab": {
     "base_uri": "https://localhost:8080/",
     "height": 137,
     "referenced_widgets": [
      "13f5ddaca5f54e8b99606ecca0b45cad",
      "9e5e4b7da8164ff9a384f8300a079531",
      "21be1acf5ec64e86b2d804f662d507a5",
      "321576e6ef334576916e50d37697789f",
      "1ee6faeccfa04d168aa5193094223cf0",
      "6f8f95e9e5134a4999a81ffbef85b43c",
      "8af620b67531488fb793b31b70ddb54d",
      "6b80c71c13bb4d58bf5ff05f58e76c58",
      "16580e5864ab4a67a118eee834a0b1fa",
      "e1430ab429274515a4e32dea094011e9",
      "b38b18aac2aa4784b0939c9b2164dbd0"
     ]
    },
    "id": "1ooRtVvqBXvs",
    "outputId": "f807b348-c8ae-4071-ac75-29e36d86b1eb"
   },
   "outputs": [
    {
     "data": {
      "application/vnd.jupyter.widget-view+json": {
       "model_id": "13f5ddaca5f54e8b99606ecca0b45cad",
       "version_major": 2,
       "version_minor": 0
      },
      "text/plain": [
       "Downloading tf_model.h5:   0%|          | 0.00/536M [00:00<?, ?B/s]"
      ]
     },
     "metadata": {},
     "output_type": "display_data"
    },
    {
     "name": "stderr",
     "output_type": "stream",
     "text": [
      "All model checkpoint layers were used when initializing TFBertForSequenceClassification.\n",
      "\n",
      "Some layers of TFBertForSequenceClassification were not initialized from the model checkpoint at bert-base-uncased and are newly initialized: ['classifier']\n",
      "You should probably TRAIN this model on a down-stream task to be able to use it for predictions and inference.\n"
     ]
    }
   ],
   "source": [
    "from transformers import TFAutoModelForSequenceClassification\n",
    "\n",
    "model_HF = TFAutoModelForSequenceClassification.from_pretrained(\"bert-base-uncased\", num_labels=num_classes)"
   ]
  },
  {
   "cell_type": "code",
   "execution_count": 36,
   "metadata": {
    "id": "LBl1_pJ4B9OH"
   },
   "outputs": [],
   "source": [
    "model_HF.compile(\n",
    "    optimizer=tf.keras.optimizers.Adam(learning_rate=5e-5),\n",
    "    loss=tf.keras.losses.SparseCategoricalCrossentropy(from_logits=True),\n",
    "    metrics=[tf.metrics.SparseCategoricalAccuracy()]\n",
    ")"
   ]
  },
  {
   "cell_type": "code",
   "execution_count": 37,
   "metadata": {
    "colab": {
     "base_uri": "https://localhost:8080/"
    },
    "id": "KdDXOKxPB_56",
    "outputId": "6da79106-1155-4791-b896-8b03ab788dbc"
   },
   "outputs": [
    {
     "name": "stdout",
     "output_type": "stream",
     "text": [
      "6012/6012 [==============================] - 5802s 954ms/step - loss: 0.0944 - sparse_categorical_accuracy: 0.9746 - val_loss: 0.0130 - val_sparse_categorical_accuracy: 0.9970\n"
     ]
    }
   ],
   "source": [
    "# Split train_tf_dataset into train and validation sets\n",
    "num_train_examples = int(0.9 * len(train_tf_dataset))\n",
    "train_dataset = train_tf_dataset.take(num_train_examples)\n",
    "val_dataset = train_tf_dataset.skip(num_train_examples)\n",
    "\n",
    "history_HF = model_HF.fit(train_dataset, epochs=1, validation_data=val_dataset)"
   ]
  },
  {
   "cell_type": "code",
   "execution_count": 38,
   "metadata": {
    "colab": {
     "base_uri": "https://localhost:8080/"
    },
    "id": "A6KznCzcCFU7",
    "outputId": "f07a8698-b641-4dd1-8c88-48df4d8728fb"
   },
   "outputs": [
    {
     "name": "stdout",
     "output_type": "stream",
     "text": [
      "1671/1671 [==============================] - 547s 327ms/step - loss: 0.0157 - sparse_categorical_accuracy: 0.9966\n"
     ]
    },
    {
     "data": {
      "text/plain": [
       "[0.015737682580947876, 0.9965574145317078]"
      ]
     },
     "execution_count": 38,
     "metadata": {},
     "output_type": "execute_result"
    }
   ],
   "source": [
    "model_HF.evaluate(test_tf_dataset)"
   ]
  },
  {
   "cell_type": "markdown",
   "metadata": {
    "id": "ndb6LKmxplpa"
   },
   "source": [
    "We have only trained the model for one epoch, given how long they take (>1h30min with GPU). We initially trained it for two epochs but got slightly worse performances, and decided to stick with one epoch."
   ]
  },
  {
   "cell_type": "markdown",
   "metadata": {
    "id": "Sm554H_ZAUe0"
   },
   "source": [
    "# Model comparison\n",
    "\n",
    "In this section, we compare and comment all four models using accuracy, precision, recall, and F1-score. We then plot the learning curves in order to comment on the speed.\n",
    "\n",
    "Finally, we try all four models on a new, ambiguous complaint, and given all of these comparison points, we conclude on the best model overall based on several criteria.\n",
    "\n"
   ]
  },
  {
   "cell_type": "markdown",
   "metadata": {
    "id": "oE3dTyIKBOEX"
   },
   "source": [
    "## Evaluation metrics"
   ]
  },
  {
   "cell_type": "code",
   "execution_count": 39,
   "metadata": {
    "colab": {
     "base_uri": "https://localhost:8080/"
    },
    "id": "h6JynKUbC1OX",
    "outputId": "5a70f16f-f000-43b3-e01d-90ebcfef720e"
   },
   "outputs": [
    {
     "name": "stdout",
     "output_type": "stream",
     "text": [
      "418/418 [==============================] - 2s 3ms/step\n",
      "418/418 [==============================] - 3s 7ms/step\n",
      "418/418 [==============================] - 6s 11ms/step\n",
      "1671/1671 [==============================] - 545s 325ms/step\n"
     ]
    }
   ],
   "source": [
    "from sklearn.metrics import accuracy_score, precision_recall_fscore_support, roc_auc_score\n",
    "from scipy.special import softmax\n",
    "import numpy as np\n",
    "\n",
    "# Predictions on the test set for each model\n",
    "\n",
    "cnn_y_pred = model_cnn.predict(X_test)\n",
    "\n",
    "lstm_y_pred = model_lstm.predict(X_test)\n",
    "\n",
    "bilstm_y_pred = model_bilstm.predict(X_test)\n",
    "\n",
    "hf_y_pred = model_HF.predict(test_tf_dataset).logits\n",
    "hf_y_pred_prob_norm = softmax(hf_y_pred, axis=1)\n",
    "hf_y_pred = tf.nn.softmax(hf_y_pred, axis=1).numpy()\n",
    "hf_y_pred = np.argmax(hf_y_pred,axis=1)"
   ]
  },
  {
   "cell_type": "code",
   "execution_count": 40,
   "metadata": {
    "colab": {
     "base_uri": "https://localhost:8080/"
    },
    "id": "Ikjq0MdUQqp8",
    "outputId": "1923ee26-471e-4e3f-d748-5b9febbb1565"
   },
   "outputs": [
    {
     "name": "stderr",
     "output_type": "stream",
     "text": [
      "/usr/local/lib/python3.9/dist-packages/sklearn/metrics/_classification.py:1344: UndefinedMetricWarning: Precision and F-score are ill-defined and being set to 0.0 in labels with no predicted samples. Use `zero_division` parameter to control this behavior.\n",
      "  _warn_prf(average, modifier, msg_start, len(result))\n",
      "/usr/local/lib/python3.9/dist-packages/sklearn/metrics/_classification.py:1344: UndefinedMetricWarning: Precision and F-score are ill-defined and being set to 0.0 in labels with no predicted samples. Use `zero_division` parameter to control this behavior.\n",
      "  _warn_prf(average, modifier, msg_start, len(result))\n"
     ]
    }
   ],
   "source": [
    "# Evaluate CNN model\n",
    "cnn_acc = accuracy_score(y_test, cnn_y_pred.round())\n",
    "cnn_precision, cnn_recall, cnn_fscore, _ = precision_recall_fscore_support(y_test, cnn_y_pred.round(), average='weighted')\n",
    "cnn_roc_auc = roc_auc_score(y_test, cnn_y_pred)\n",
    "\n",
    "# Evaluate LSTM model\n",
    "lstm_acc = accuracy_score(y_test, lstm_y_pred.round())\n",
    "lstm_precision, lstm_recall, lstm_fscore, _ = precision_recall_fscore_support(y_test, lstm_y_pred.round(), average='weighted')\n",
    "lstm_roc_auc = roc_auc_score(y_test, lstm_y_pred)\n",
    "\n",
    "# Evaluate bidirectional LSTM model\n",
    "bilstm_acc = accuracy_score(y_test, bilstm_y_pred.round())\n",
    "bilstm_precision, bilstm_recall, bilstm_fscore, _ = precision_recall_fscore_support(y_test, bilstm_y_pred.round(), average='weighted')\n",
    "bilstm_roc_auc = roc_auc_score(y_test, bilstm_y_pred)\n",
    "\n",
    "# Evaluate BERT model\n",
    "test_dataset = tokenized_datasets['test']\n",
    "test_labels = test_dataset['target_encoded']\n",
    "\n",
    "hf_acc = accuracy_score(test_labels, hf_y_pred)\n",
    "hf_precision, hf_recall, hf_fscore, _ = precision_recall_fscore_support(test_labels, hf_y_pred, average='weighted')\n",
    "hf_roc_auc = roc_auc_score(test_labels, hf_y_pred_prob_norm, multi_class='ovr')"
   ]
  },
  {
   "cell_type": "markdown",
   "metadata": {
    "id": "N4nPMbUUo_mt"
   },
   "source": [
    "We set `multi_class` to \"OVR\" (One-VS-Rest) because we are dealing with unbalanced classes as we could see from the distribution of categories in our EDA.."
   ]
  },
  {
   "cell_type": "code",
   "execution_count": 41,
   "metadata": {
    "colab": {
     "base_uri": "https://localhost:8080/"
    },
    "id": "xx4IpeFWzFG5",
    "outputId": "b51d0747-db39-4855-e0c6-dfd8a45d3b11"
   },
   "outputs": [
    {
     "name": "stdout",
     "output_type": "stream",
     "text": [
      "Model\t\tAccuracy\tPrecision\tRecall\t\tF-score\t\tROC AUC\n",
      "CNN\t\t0.9616\t\t0.9736\t\t0.9616\t\t0.9672\t\t0.9975\n",
      "LSTM\t\t0.8901\t\t0.9273\t\t0.8901\t\t0.9068\t\t0.9843\n",
      "BD LSTM\t\t0.9503\t\t0.9646\t\t0.9503\t\t0.9572\t\t0.9960\n",
      "BERT\t\t0.9966\t\t0.9954\t\t0.9966\t\t0.9959\t\t0.9995\n"
     ]
    }
   ],
   "source": [
    "# Print table of evaluation metrics for each model\n",
    "print(\"Model\\t\\tAccuracy\\tPrecision\\tRecall\\t\\tF-score\\t\\tROC AUC\")\n",
    "print(f\"CNN\\t\\t{cnn_acc:.4f}\\t\\t{cnn_precision:.4f}\\t\\t{cnn_recall:.4f}\\t\\t{cnn_fscore:.4f}\\t\\t{cnn_roc_auc:.4f}\")\n",
    "print(f\"LSTM\\t\\t{lstm_acc:.4f}\\t\\t{lstm_precision:.4f}\\t\\t{lstm_recall:.4f}\\t\\t{lstm_fscore:.4f}\\t\\t{lstm_roc_auc:.4f}\")\n",
    "print(f\"BD LSTM\\t\\t{bilstm_acc:.4f}\\t\\t{bilstm_precision:.4f}\\t\\t{bilstm_recall:.4f}\\t\\t{bilstm_fscore:.4f}\\t\\t{bilstm_roc_auc:.4f}\")\n",
    "print(f\"BERT\\t\\t{hf_acc:.4f}\\t\\t{hf_precision:.4f}\\t\\t{hf_recall:.4f}\\t\\t{hf_fscore:.4f}\\t\\t{hf_roc_auc:.4f}\")"
   ]
  },
  {
   "cell_type": "markdown",
   "metadata": {
    "id": "cvJncX186gFC"
   },
   "source": [
    "The transformer performs consistently better, followed by the CNN, bidirectional LSTM, and finally by the single-layer LSTM."
   ]
  },
  {
   "cell_type": "markdown",
   "metadata": {
    "id": "gMPDDXVPJTac"
   },
   "source": [
    "## Learning curves"
   ]
  },
  {
   "cell_type": "code",
   "execution_count": 42,
   "metadata": {
    "colab": {
     "base_uri": "https://localhost:8080/",
     "height": 295
    },
    "id": "2fnS4xJ5QvAZ",
    "outputId": "a1115336-86f8-48da-d2ba-eca0126b2400"
   },
   "outputs": [
    {
     "data": {
      "image/png": "[encoded data removed]",
      "text/plain": [
       "<Figure size 432x288 with 1 Axes>"
      ]
     },
     "metadata": {
      "needs_background": "light"
     },
     "output_type": "display_data"
    }
   ],
   "source": [
    "# plot learning curves\n",
    "plt.figure()\n",
    "plt.plot(history_cnn.history['accuracy'], color='blue', lw=2, label='CNN training accuracy')\n",
    "plt.plot(history_cnn.history['val_accuracy'], color='blue', lw=2, linestyle='--', label='CNN validation accuracy')\n",
    "plt.plot(history_lstm.history['accuracy'], color='darkorange', lw=2, label='LSTM training accuracy')\n",
    "plt.plot(history_lstm.history['val_accuracy'], color='darkorange', lw=2, linestyle='--', label='LSTM validation accuracy')\n",
    "plt.plot(history_bilstm.history['accuracy'], color='red', lw=2, label='BD LSTM training accuracy')\n",
    "plt.plot(history_bilstm.history['val_accuracy'], color='red', lw=2, linestyle='--', label='BD LSTM validation accuracy')\n",
    "plt.plot(0,history_HF.history['sparse_categorical_accuracy'], color='green', marker='*', label='BERT training accuracy')\n",
    "plt.plot(0,history_HF.history['val_sparse_categorical_accuracy'], color='green', marker='o', label='BERT validation accuracy')\n",
    "plt.title('Model accuracy comparison')\n",
    "plt.xlabel('Epoch')\n",
    "plt.xticks([0,1,2,3,4], [1,2,3,4,5])\n",
    "plt.ylabel('Accuracy')\n",
    "plt.legend(loc='lower right')\n",
    "plt.show()"
   ]
  },
  {
   "cell_type": "markdown",
   "metadata": {
    "id": "YxxfIjU144fQ"
   },
   "source": [
    "The single-layer LSTM model has the steepest learning curve, and the worst performance at the end of its training in both validation and training accuracies.\n",
    "\n",
    "The bidirectional LSTM however obtains better performances than both the single-layer LSTM and the CNN with a more consistent learning curve.\n",
    "\n",
    "But the Transformer has the best performance from the start, in both training and validation accuracies."
   ]
  },
  {
   "cell_type": "markdown",
   "metadata": {
    "id": "c5WirwJOBQqi"
   },
   "source": [
    "## Prediction on a new complaint\n",
    "\n",
    "Here we use all four models to predict the product category for a brand new complaint."
   ]
  },
  {
   "cell_type": "code",
   "execution_count": 78,
   "metadata": {
    "colab": {
     "base_uri": "https://localhost:8080/",
     "height": 88
    },
    "id": "NW2tSvkyGN1h",
    "outputId": "3e77a91c-b81c-4a29-82e9-731bb174bcbc"
   },
   "outputs": [
    {
     "data": {
      "application/vnd.google.colaboratory.intrinsic+json": {
       "type": "string"
      },
      "text/plain": [
       "\"Unreachable customer service ! \\n I do not know which is worse, the loan or the card application process. After months spent asking for the latter I now have no idea what stage my application is at. It is impossible to reach a human being and I have no idea if I eeeven got approved or not. \\n It's been MONTHS! I need that money! \\n That's unacceptable.\""
      ]
     },
     "execution_count": 78,
     "metadata": {},
     "output_type": "execute_result"
    }
   ],
   "source": [
    "import numpy as np\n",
    "\n",
    "text = \"Unreachable customer service ! \\n I do not know which is worse, the loan or the card application process. After months spent asking for the latter I now have no idea what stage my application is at. It is impossible to reach a human being and I have no idea if I eeeven got approved or not. \\n It's been MONTHS! I need that money! \\n That's unacceptable.\"\n",
    "def handle_complaint(text, max_length):\n",
    "    text1 = clean_text(text)\n",
    "    text1 = [text1.split()]\n",
    "    text1 = tokenizer.texts_to_sequences(text1)\n",
    "    text1 = pad_sequences(text1,maxlen=max_length,padding='post')\n",
    "    return(text1)\n",
    "\n",
    "text_vect = handle_complaint(text, max_length)\n",
    "text"
   ]
  },
  {
   "cell_type": "code",
   "execution_count": 79,
   "metadata": {
    "colab": {
     "base_uri": "https://localhost:8080/"
    },
    "id": "6bQfDPUUde2U",
    "outputId": "9eaa623b-7639-4daa-c2ee-a4320afd5fe6"
   },
   "outputs": [
    {
     "name": "stdout",
     "output_type": "stream",
     "text": [
      "1/1 [==============================] - 0s 20ms/step\n",
      "CNN prediction: Payday loan\n",
      "1/1 [==============================] - 0s 22ms/step\n",
      "LSTM prediction: Credit card\n",
      "1/1 [==============================] - 0s 27ms/step\n",
      "Bidirectional LSTM prediction: Credit card\n",
      "1/1 [==============================] - 0s 90ms/step\n",
      "BERT prediction :  ['Credit card']\n"
     ]
    }
   ],
   "source": [
    "# CNN\n",
    "proba_predict_cnn  = model_cnn.predict(text_vect)\n",
    "print(\"CNN prediction: \"+str(le.inverse_transform([np.argmax(proba_predict_cnn)])[0]))\n",
    "\n",
    "# LSTM\n",
    "proba_predict_lstm = model_lstm.predict(text_vect)\n",
    "print(\"LSTM prediction: \"+str(le.inverse_transform([np.argmax(proba_predict_lstm)])[0]))\n",
    "\n",
    "# Bidirectional LSTM\n",
    "proba_predict_bilstm = model_bilstm.predict(text_vect)\n",
    "print(\"Bidirectional LSTM prediction: \"+str(le.inverse_transform([np.argmax(proba_predict_bilstm)])[0]))\n",
    "\n",
    "# BERT\n",
    "text = [text] #brackets : compatible with transformer prediction\n",
    "encodings_HF = tokenizer_HF(text, padding='max_length', truncation=True)\n",
    "text_data_tf_HF = tf.data.Dataset.from_tensor_slices((dict(encodings_HF)))\n",
    "preds_HF = model_HF.predict(text_data_tf_HF.batch(1)).logits\n",
    "res_HF = tf.nn.softmax(preds_HF, axis=1).numpy()\n",
    "print(\"BERT prediction : \", le_HF.inverse_transform([np.argmax(res_HF)]))"
   ]
  },
  {
   "cell_type": "markdown",
   "metadata": {
    "id": "lFSjDbA5Oiy6"
   },
   "source": [
    "The example text is a bit ambiguous, but all models except for the CNN picked up on the fact that it was about a credit card instead of a loan."
   ]
  },
  {
   "cell_type": "markdown",
   "metadata": {
    "id": "D5xp2QxOPDAS"
   },
   "source": [
    "# Conclusion\n",
    "\n",
    "Although the CNN is quite fast (fitting in under 5min), and has high accuracy, it does not handle new ambiguous text well.\n",
    "\n",
    "The single-layer LSTM has the worst performance out of all four models. But the bidirectional LSTM manages to be on par with the CNN and generalises well to new unseen text. \n",
    "\n",
    "The transformer is by far the highest performer with over 99% accuracy, and it clearly picks up on ambiguity, but its long training time is a major drawback.\n",
    "\n",
    "As a conclusion, the bidirectional LSTM seems to be the most efficient model, with very satisfying accuracy, short training time, and the ability to discern nuance in new text examples."
   ]
  }
 ],
 "metadata": {
  "accelerator": "GPU",
  "colab": {
   "provenance": [],
   "toc_visible": true
  },
  "gpuClass": "standard",
  "kernelspec": {
   "display_name": "Python 3 (ipykernel)",
   "language": "python",
   "name": "python3"
  },
  "language_info": {
   "codemirror_mode": {
    "name": "ipython",
    "version": 3
   },
   "file_extension": ".py",
   "mimetype": "text/x-python",
   "name": "python",
   "nbconvert_exporter": "python",
   "pygments_lexer": "ipython3",
   "version": "3.9.7"
  },
  "widgets": {
   "application/vnd.jupyter.widget-state+json": {
    "04162afe02814894874c425087133f16": {
     "model_module": "@jupyter-widgets/controls",
     "model_module_version": "1.5.0",
     "model_name": "FloatProgressModel",
     "state": {
      "_dom_classes": [],
      "_model_module": "@jupyter-widgets/controls",
      "_model_module_version": "1.5.0",
      "_model_name": "FloatProgressModel",
      "_view_count": null,
      "_view_module": "@jupyter-widgets/controls",
      "_view_module_version": "1.5.0",
      "_view_name": "ProgressView",
      "bar_style": "success",
      "description": "",
      "description_tooltip": null,
      "layout": "IPY_MODEL_76e7908b685941b4986640620ab51f09",
      "max": 570,
      "min": 0,
      "orientation": "horizontal",
      "style": "IPY_MODEL_25ffb1b70ee0427f98da059546d78cdd",
      "value": 570
     }
    },
    "063efbae454442a1b491f9a580154cac": {
     "model_module": "@jupyter-widgets/controls",
     "model_module_version": "1.5.0",
     "model_name": "HTMLModel",
     "state": {
      "_dom_classes": [],
      "_model_module": "@jupyter-widgets/controls",
      "_model_module_version": "1.5.0",
      "_model_name": "HTMLModel",
      "_view_count": null,
      "_view_module": "@jupyter-widgets/controls",
      "_view_module_version": "1.5.0",
      "_view_name": "HTMLView",
      "description": "",
      "description_tooltip": null,
      "layout": "IPY_MODEL_e3985e10e6df4a899091f578c5d8bcde",
      "placeholder": "​",
      "style": "IPY_MODEL_8a47c2b91c0440f685f05bf872e52729",
      "value": "Downloading (…)lve/main/config.json: 100%"
     }
    },
    "070c7c25d76f418fb77db74630da0167": {
     "model_module": "@jupyter-widgets/controls",
     "model_module_version": "1.5.0",
     "model_name": "HBoxModel",
     "state": {
      "_dom_classes": [],
      "_model_module": "@jupyter-widgets/controls",
      "_model_module_version": "1.5.0",
      "_model_name": "HBoxModel",
      "_view_count": null,
      "_view_module": "@jupyter-widgets/controls",
      "_view_module_version": "1.5.0",
      "_view_name": "HBoxView",
      "box_style": "",
      "children": [
       "IPY_MODEL_42bd90d43da849a585dabb1ba62049d3",
       "IPY_MODEL_4282680fbe414e1fbd81130eb346574c",
       "IPY_MODEL_1f00deaac07242098f28c5f0739b3344"
      ],
      "layout": "IPY_MODEL_c0e4d0c5beb44b5eac0f1ad050b5b9b3"
     }
    },
    "090e87bf3dbe44e4a58a77062a1aa213": {
     "model_module": "@jupyter-widgets/base",
     "model_module_version": "1.2.0",
     "model_name": "LayoutModel",
     "state": {
      "_model_module": "@jupyter-widgets/base",
      "_model_module_version": "1.2.0",
      "_model_name": "LayoutModel",
      "_view_count": null,
      "_view_module": "@jupyter-widgets/base",
      "_view_module_version": "1.2.0",
      "_view_name": "LayoutView",
      "align_content": null,
      "align_items": null,
      "align_self": null,
      "border": null,
      "bottom": null,
      "display": null,
      "flex": null,
      "flex_flow": null,
      "grid_area": null,
      "grid_auto_columns": null,
      "grid_auto_flow": null,
      "grid_auto_rows": null,
      "grid_column": null,
      "grid_gap": null,
      "grid_row": null,
      "grid_template_areas": null,
      "grid_template_columns": null,
      "grid_template_rows": null,
      "height": null,
      "justify_content": null,
      "justify_items": null,
      "left": null,
      "margin": null,
      "max_height": null,
      "max_width": null,
      "min_height": null,
      "min_width": null,
      "object_fit": null,
      "object_position": null,
      "order": null,
      "overflow": null,
      "overflow_x": null,
      "overflow_y": null,
      "padding": null,
      "right": null,
      "top": null,
      "visibility": null,
      "width": null
     }
    },
    "0da95348cb924bd69ce28b979dd18134": {
     "model_module": "@jupyter-widgets/base",
     "model_module_version": "1.2.0",
     "model_name": "LayoutModel",
     "state": {
      "_model_module": "@jupyter-widgets/base",
      "_model_module_version": "1.2.0",
      "_model_name": "LayoutModel",
      "_view_count": null,
      "_view_module": "@jupyter-widgets/base",
      "_view_module_version": "1.2.0",
      "_view_name": "LayoutView",
      "align_content": null,
      "align_items": null,
      "align_self": null,
      "border": null,
      "bottom": null,
      "display": null,
      "flex": null,
      "flex_flow": null,
      "grid_area": null,
      "grid_auto_columns": null,
      "grid_auto_flow": null,
      "grid_auto_rows": null,
      "grid_column": null,
      "grid_gap": null,
      "grid_row": null,
      "grid_template_areas": null,
      "grid_template_columns": null,
      "grid_template_rows": null,
      "height": null,
      "justify_content": null,
      "justify_items": null,
      "left": null,
      "margin": null,
      "max_height": null,
      "max_width": null,
      "min_height": null,
      "min_width": null,
      "object_fit": null,
      "object_position": null,
      "order": null,
      "overflow": null,
      "overflow_x": null,
      "overflow_y": null,
      "padding": null,
      "right": null,
      "top": null,
      "visibility": null,
      "width": null
     }
    },
    "13f5ddaca5f54e8b99606ecca0b45cad": {
     "model_module": "@jupyter-widgets/controls",
     "model_module_version": "1.5.0",
     "model_name": "HBoxModel",
     "state": {
      "_dom_classes": [],
      "_model_module": "@jupyter-widgets/controls",
      "_model_module_version": "1.5.0",
      "_model_name": "HBoxModel",
      "_view_count": null,
      "_view_module": "@jupyter-widgets/controls",
      "_view_module_version": "1.5.0",
      "_view_name": "HBoxView",
      "box_style": "",
      "children": [
       "IPY_MODEL_9e5e4b7da8164ff9a384f8300a079531",
       "IPY_MODEL_21be1acf5ec64e86b2d804f662d507a5",
       "IPY_MODEL_321576e6ef334576916e50d37697789f"
      ],
      "layout": "IPY_MODEL_1ee6faeccfa04d168aa5193094223cf0"
     }
    },
    "15007f10bfd442c199804530861a425b": {
     "model_module": "@jupyter-widgets/controls",
     "model_module_version": "1.5.0",
     "model_name": "ProgressStyleModel",
     "state": {
      "_model_module": "@jupyter-widgets/controls",
      "_model_module_version": "1.5.0",
      "_model_name": "ProgressStyleModel",
      "_view_count": null,
      "_view_module": "@jupyter-widgets/base",
      "_view_module_version": "1.2.0",
      "_view_name": "StyleView",
      "bar_color": null,
      "description_width": ""
     }
    },
    "16580e5864ab4a67a118eee834a0b1fa": {
     "model_module": "@jupyter-widgets/controls",
     "model_module_version": "1.5.0",
     "model_name": "ProgressStyleModel",
     "state": {
      "_model_module": "@jupyter-widgets/controls",
      "_model_module_version": "1.5.0",
      "_model_name": "ProgressStyleModel",
      "_view_count": null,
      "_view_module": "@jupyter-widgets/base",
      "_view_module_version": "1.2.0",
      "_view_name": "StyleView",
      "bar_color": null,
      "description_width": ""
     }
    },
    "1ee6faeccfa04d168aa5193094223cf0": {
     "model_module": "@jupyter-widgets/base",
     "model_module_version": "1.2.0",
     "model_name": "LayoutModel",
     "state": {
      "_model_module": "@jupyter-widgets/base",
      "_model_module_version": "1.2.0",
      "_model_name": "LayoutModel",
      "_view_count": null,
      "_view_module": "@jupyter-widgets/base",
      "_view_module_version": "1.2.0",
      "_view_name": "LayoutView",
      "align_content": null,
      "align_items": null,
      "align_self": null,
      "border": null,
      "bottom": null,
      "display": null,
      "flex": null,
      "flex_flow": null,
      "grid_area": null,
      "grid_auto_columns": null,
      "grid_auto_flow": null,
      "grid_auto_rows": null,
      "grid_column": null,
      "grid_gap": null,
      "grid_row": null,
      "grid_template_areas": null,
      "grid_template_columns": null,
      "grid_template_rows": null,
      "height": null,
      "justify_content": null,
      "justify_items": null,
      "left": null,
      "margin": null,
      "max_height": null,
      "max_width": null,
      "min_height": null,
      "min_width": null,
      "object_fit": null,
      "object_position": null,
      "order": null,
      "overflow": null,
      "overflow_x": null,
      "overflow_y": null,
      "padding": null,
      "right": null,
      "top": null,
      "visibility": null,
      "width": null
     }
    },
    "1f00deaac07242098f28c5f0739b3344": {
     "model_module": "@jupyter-widgets/controls",
     "model_module_version": "1.5.0",
     "model_name": "HTMLModel",
     "state": {
      "_dom_classes": [],
      "_model_module": "@jupyter-widgets/controls",
      "_model_module_version": "1.5.0",
      "_model_name": "HTMLModel",
      "_view_count": null,
      "_view_module": "@jupyter-widgets/controls",
      "_view_module_version": "1.5.0",
      "_view_name": "HTMLView",
      "description": "",
      "description_tooltip": null,
      "layout": "IPY_MODEL_0da95348cb924bd69ce28b979dd18134",
      "placeholder": "​",
      "style": "IPY_MODEL_80015f4dab794636937e659ba0325bf0",
      "value": " 13362/13362 [00:19&lt;00:00, 648.61 examples/s]"
     }
    },
    "21be1acf5ec64e86b2d804f662d507a5": {
     "model_module": "@jupyter-widgets/controls",
     "model_module_version": "1.5.0",
     "model_name": "FloatProgressModel",
     "state": {
      "_dom_classes": [],
      "_model_module": "@jupyter-widgets/controls",
      "_model_module_version": "1.5.0",
      "_model_name": "FloatProgressModel",
      "_view_count": null,
      "_view_module": "@jupyter-widgets/controls",
      "_view_module_version": "1.5.0",
      "_view_name": "ProgressView",
      "bar_style": "success",
      "description": "",
      "description_tooltip": null,
      "layout": "IPY_MODEL_6b80c71c13bb4d58bf5ff05f58e76c58",
      "max": 536063208,
      "min": 0,
      "orientation": "horizontal",
      "style": "IPY_MODEL_16580e5864ab4a67a118eee834a0b1fa",
      "value": 536063208
     }
    },
    "25ffb1b70ee0427f98da059546d78cdd": {
     "model_module": "@jupyter-widgets/controls",
     "model_module_version": "1.5.0",
     "model_name": "ProgressStyleModel",
     "state": {
      "_model_module": "@jupyter-widgets/controls",
      "_model_module_version": "1.5.0",
      "_model_name": "ProgressStyleModel",
      "_view_count": null,
      "_view_module": "@jupyter-widgets/base",
      "_view_module_version": "1.2.0",
      "_view_name": "StyleView",
      "bar_color": null,
      "description_width": ""
     }
    },
    "275eddc571674c4f8acaac1bfbcf418b": {
     "model_module": "@jupyter-widgets/controls",
     "model_module_version": "1.5.0",
     "model_name": "HBoxModel",
     "state": {
      "_dom_classes": [],
      "_model_module": "@jupyter-widgets/controls",
      "_model_module_version": "1.5.0",
      "_model_name": "HBoxModel",
      "_view_count": null,
      "_view_module": "@jupyter-widgets/controls",
      "_view_module_version": "1.5.0",
      "_view_name": "HBoxView",
      "box_style": "",
      "children": [
       "IPY_MODEL_780f393c447846e29af7b5fc96ff6482",
       "IPY_MODEL_e6ae3c51448843a2af185520ae8496b3",
       "IPY_MODEL_c407f62f0f3e4e86961070c209acc478"
      ],
      "layout": "IPY_MODEL_37a9203234d941c9b2d7c5ebcab41454"
     }
    },
    "2aeff27bcd26415db5a9a71298e9d597": {
     "model_module": "@jupyter-widgets/base",
     "model_module_version": "1.2.0",
     "model_name": "LayoutModel",
     "state": {
      "_model_module": "@jupyter-widgets/base",
      "_model_module_version": "1.2.0",
      "_model_name": "LayoutModel",
      "_view_count": null,
      "_view_module": "@jupyter-widgets/base",
      "_view_module_version": "1.2.0",
      "_view_name": "LayoutView",
      "align_content": null,
      "align_items": null,
      "align_self": null,
      "border": null,
      "bottom": null,
      "display": null,
      "flex": null,
      "flex_flow": null,
      "grid_area": null,
      "grid_auto_columns": null,
      "grid_auto_flow": null,
      "grid_auto_rows": null,
      "grid_column": null,
      "grid_gap": null,
      "grid_row": null,
      "grid_template_areas": null,
      "grid_template_columns": null,
      "grid_template_rows": null,
      "height": null,
      "justify_content": null,
      "justify_items": null,
      "left": null,
      "margin": null,
      "max_height": null,
      "max_width": null,
      "min_height": null,
      "min_width": null,
      "object_fit": null,
      "object_position": null,
      "order": null,
      "overflow": null,
      "overflow_x": null,
      "overflow_y": null,
      "padding": null,
      "right": null,
      "top": null,
      "visibility": null,
      "width": null
     }
    },
    "321576e6ef334576916e50d37697789f": {
     "model_module": "@jupyter-widgets/controls",
     "model_module_version": "1.5.0",
     "model_name": "HTMLModel",
     "state": {
      "_dom_classes": [],
      "_model_module": "@jupyter-widgets/controls",
      "_model_module_version": "1.5.0",
      "_model_name": "HTMLModel",
      "_view_count": null,
      "_view_module": "@jupyter-widgets/controls",
      "_view_module_version": "1.5.0",
      "_view_name": "HTMLView",
      "description": "",
      "description_tooltip": null,
      "layout": "IPY_MODEL_e1430ab429274515a4e32dea094011e9",
      "placeholder": "​",
      "style": "IPY_MODEL_b38b18aac2aa4784b0939c9b2164dbd0",
      "value": " 536M/536M [00:18&lt;00:00, 8.17MB/s]"
     }
    },
    "33990b29c706494a9c8f44546721b917": {
     "model_module": "@jupyter-widgets/base",
     "model_module_version": "1.2.0",
     "model_name": "LayoutModel",
     "state": {
      "_model_module": "@jupyter-widgets/base",
      "_model_module_version": "1.2.0",
      "_model_name": "LayoutModel",
      "_view_count": null,
      "_view_module": "@jupyter-widgets/base",
      "_view_module_version": "1.2.0",
      "_view_name": "LayoutView",
      "align_content": null,
      "align_items": null,
      "align_self": null,
      "border": null,
      "bottom": null,
      "display": null,
      "flex": null,
      "flex_flow": null,
      "grid_area": null,
      "grid_auto_columns": null,
      "grid_auto_flow": null,
      "grid_auto_rows": null,
      "grid_column": null,
      "grid_gap": null,
      "grid_row": null,
      "grid_template_areas": null,
      "grid_template_columns": null,
      "grid_template_rows": null,
      "height": null,
      "justify_content": null,
      "justify_items": null,
      "left": null,
      "margin": null,
      "max_height": null,
      "max_width": null,
      "min_height": null,
      "min_width": null,
      "object_fit": null,
      "object_position": null,
      "order": null,
      "overflow": null,
      "overflow_x": null,
      "overflow_y": null,
      "padding": null,
      "right": null,
      "top": null,
      "visibility": null,
      "width": null
     }
    },
    "3695a6584f32469a96922e421ceae357": {
     "model_module": "@jupyter-widgets/controls",
     "model_module_version": "1.5.0",
     "model_name": "HBoxModel",
     "state": {
      "_dom_classes": [],
      "_model_module": "@jupyter-widgets/controls",
      "_model_module_version": "1.5.0",
      "_model_name": "HBoxModel",
      "_view_count": null,
      "_view_module": "@jupyter-widgets/controls",
      "_view_module_version": "1.5.0",
      "_view_name": "HBoxView",
      "box_style": "",
      "children": [
       "IPY_MODEL_ffd7deef412c46d1bc4b9bf4deb126c0",
       "IPY_MODEL_56798370a57c4a459dab1f99f5482d39",
       "IPY_MODEL_dd349e0098104939a9b137fcc8a0f510"
      ],
      "layout": "IPY_MODEL_b05c86dc76484aaa85ea8cc510297ff7"
     }
    },
    "37a9203234d941c9b2d7c5ebcab41454": {
     "model_module": "@jupyter-widgets/base",
     "model_module_version": "1.2.0",
     "model_name": "LayoutModel",
     "state": {
      "_model_module": "@jupyter-widgets/base",
      "_model_module_version": "1.2.0",
      "_model_name": "LayoutModel",
      "_view_count": null,
      "_view_module": "@jupyter-widgets/base",
      "_view_module_version": "1.2.0",
      "_view_name": "LayoutView",
      "align_content": null,
      "align_items": null,
      "align_self": null,
      "border": null,
      "bottom": null,
      "display": null,
      "flex": null,
      "flex_flow": null,
      "grid_area": null,
      "grid_auto_columns": null,
      "grid_auto_flow": null,
      "grid_auto_rows": null,
      "grid_column": null,
      "grid_gap": null,
      "grid_row": null,
      "grid_template_areas": null,
      "grid_template_columns": null,
      "grid_template_rows": null,
      "height": null,
      "justify_content": null,
      "justify_items": null,
      "left": null,
      "margin": null,
      "max_height": null,
      "max_width": null,
      "min_height": null,
      "min_width": null,
      "object_fit": null,
      "object_position": null,
      "order": null,
      "overflow": null,
      "overflow_x": null,
      "overflow_y": null,
      "padding": null,
      "right": null,
      "top": null,
      "visibility": null,
      "width": null
     }
    },
    "38d35d0db2374b4c920d6d2e38aebd58": {
     "model_module": "@jupyter-widgets/base",
     "model_module_version": "1.2.0",
     "model_name": "LayoutModel",
     "state": {
      "_model_module": "@jupyter-widgets/base",
      "_model_module_version": "1.2.0",
      "_model_name": "LayoutModel",
      "_view_count": null,
      "_view_module": "@jupyter-widgets/base",
      "_view_module_version": "1.2.0",
      "_view_name": "LayoutView",
      "align_content": null,
      "align_items": null,
      "align_self": null,
      "border": null,
      "bottom": null,
      "display": null,
      "flex": null,
      "flex_flow": null,
      "grid_area": null,
      "grid_auto_columns": null,
      "grid_auto_flow": null,
      "grid_auto_rows": null,
      "grid_column": null,
      "grid_gap": null,
      "grid_row": null,
      "grid_template_areas": null,
      "grid_template_columns": null,
      "grid_template_rows": null,
      "height": null,
      "justify_content": null,
      "justify_items": null,
      "left": null,
      "margin": null,
      "max_height": null,
      "max_width": null,
      "min_height": null,
      "min_width": null,
      "object_fit": null,
      "object_position": null,
      "order": null,
      "overflow": null,
      "overflow_x": null,
      "overflow_y": null,
      "padding": null,
      "right": null,
      "top": null,
      "visibility": null,
      "width": null
     }
    },
    "4282680fbe414e1fbd81130eb346574c": {
     "model_module": "@jupyter-widgets/controls",
     "model_module_version": "1.5.0",
     "model_name": "FloatProgressModel",
     "state": {
      "_dom_classes": [],
      "_model_module": "@jupyter-widgets/controls",
      "_model_module_version": "1.5.0",
      "_model_name": "FloatProgressModel",
      "_view_count": null,
      "_view_module": "@jupyter-widgets/controls",
      "_view_module_version": "1.5.0",
      "_view_name": "ProgressView",
      "bar_style": "",
      "description": "",
      "description_tooltip": null,
      "layout": "IPY_MODEL_43411a690ca648bb9bbd30dfaa893ea5",
      "max": 13362,
      "min": 0,
      "orientation": "horizontal",
      "style": "IPY_MODEL_a7f5245e809d469dab26536444183630",
      "value": 13362
     }
    },
    "42bd90d43da849a585dabb1ba62049d3": {
     "model_module": "@jupyter-widgets/controls",
     "model_module_version": "1.5.0",
     "model_name": "HTMLModel",
     "state": {
      "_dom_classes": [],
      "_model_module": "@jupyter-widgets/controls",
      "_model_module_version": "1.5.0",
      "_model_name": "HTMLModel",
      "_view_count": null,
      "_view_module": "@jupyter-widgets/controls",
      "_view_module_version": "1.5.0",
      "_view_name": "HTMLView",
      "description": "",
      "description_tooltip": null,
      "layout": "IPY_MODEL_a3725509994a46a9b19293811a1e23d1",
      "placeholder": "​",
      "style": "IPY_MODEL_ddf3cf29a8cb476794b665b3020100ee",
      "value": "Map: 100%"
     }
    },
    "43411a690ca648bb9bbd30dfaa893ea5": {
     "model_module": "@jupyter-widgets/base",
     "model_module_version": "1.2.0",
     "model_name": "LayoutModel",
     "state": {
      "_model_module": "@jupyter-widgets/base",
      "_model_module_version": "1.2.0",
      "_model_name": "LayoutModel",
      "_view_count": null,
      "_view_module": "@jupyter-widgets/base",
      "_view_module_version": "1.2.0",
      "_view_name": "LayoutView",
      "align_content": null,
      "align_items": null,
      "align_self": null,
      "border": null,
      "bottom": null,
      "display": null,
      "flex": null,
      "flex_flow": null,
      "grid_area": null,
      "grid_auto_columns": null,
      "grid_auto_flow": null,
      "grid_auto_rows": null,
      "grid_column": null,
      "grid_gap": null,
      "grid_row": null,
      "grid_template_areas": null,
      "grid_template_columns": null,
      "grid_template_rows": null,
      "height": null,
      "justify_content": null,
      "justify_items": null,
      "left": null,
      "margin": null,
      "max_height": null,
      "max_width": null,
      "min_height": null,
      "min_width": null,
      "object_fit": null,
      "object_position": null,
      "order": null,
      "overflow": null,
      "overflow_x": null,
      "overflow_y": null,
      "padding": null,
      "right": null,
      "top": null,
      "visibility": null,
      "width": null
     }
    },
    "467505865ad7441ab78e1740cc948427": {
     "model_module": "@jupyter-widgets/base",
     "model_module_version": "1.2.0",
     "model_name": "LayoutModel",
     "state": {
      "_model_module": "@jupyter-widgets/base",
      "_model_module_version": "1.2.0",
      "_model_name": "LayoutModel",
      "_view_count": null,
      "_view_module": "@jupyter-widgets/base",
      "_view_module_version": "1.2.0",
      "_view_name": "LayoutView",
      "align_content": null,
      "align_items": null,
      "align_self": null,
      "border": null,
      "bottom": null,
      "display": null,
      "flex": null,
      "flex_flow": null,
      "grid_area": null,
      "grid_auto_columns": null,
      "grid_auto_flow": null,
      "grid_auto_rows": null,
      "grid_column": null,
      "grid_gap": null,
      "grid_row": null,
      "grid_template_areas": null,
      "grid_template_columns": null,
      "grid_template_rows": null,
      "height": null,
      "justify_content": null,
      "justify_items": null,
      "left": null,
      "margin": null,
      "max_height": null,
      "max_width": null,
      "min_height": null,
      "min_width": null,
      "object_fit": null,
      "object_position": null,
      "order": null,
      "overflow": null,
      "overflow_x": null,
      "overflow_y": null,
      "padding": null,
      "right": null,
      "top": null,
      "visibility": null,
      "width": null
     }
    },
    "470c7e48e3414ea09faa87345760efc0": {
     "model_module": "@jupyter-widgets/controls",
     "model_module_version": "1.5.0",
     "model_name": "DescriptionStyleModel",
     "state": {
      "_model_module": "@jupyter-widgets/controls",
      "_model_module_version": "1.5.0",
      "_model_name": "DescriptionStyleModel",
      "_view_count": null,
      "_view_module": "@jupyter-widgets/base",
      "_view_module_version": "1.2.0",
      "_view_name": "StyleView",
      "description_width": ""
     }
    },
    "4d6926660f8942bb9e0bed8485271acf": {
     "model_module": "@jupyter-widgets/controls",
     "model_module_version": "1.5.0",
     "model_name": "DescriptionStyleModel",
     "state": {
      "_model_module": "@jupyter-widgets/controls",
      "_model_module_version": "1.5.0",
      "_model_name": "DescriptionStyleModel",
      "_view_count": null,
      "_view_module": "@jupyter-widgets/base",
      "_view_module_version": "1.2.0",
      "_view_name": "StyleView",
      "description_width": ""
     }
    },
    "4edefa3e325643dcad94588e7abd462a": {
     "model_module": "@jupyter-widgets/base",
     "model_module_version": "1.2.0",
     "model_name": "LayoutModel",
     "state": {
      "_model_module": "@jupyter-widgets/base",
      "_model_module_version": "1.2.0",
      "_model_name": "LayoutModel",
      "_view_count": null,
      "_view_module": "@jupyter-widgets/base",
      "_view_module_version": "1.2.0",
      "_view_name": "LayoutView",
      "align_content": null,
      "align_items": null,
      "align_self": null,
      "border": null,
      "bottom": null,
      "display": null,
      "flex": null,
      "flex_flow": null,
      "grid_area": null,
      "grid_auto_columns": null,
      "grid_auto_flow": null,
      "grid_auto_rows": null,
      "grid_column": null,
      "grid_gap": null,
      "grid_row": null,
      "grid_template_areas": null,
      "grid_template_columns": null,
      "grid_template_rows": null,
      "height": null,
      "justify_content": null,
      "justify_items": null,
      "left": null,
      "margin": null,
      "max_height": null,
      "max_width": null,
      "min_height": null,
      "min_width": null,
      "object_fit": null,
      "object_position": null,
      "order": null,
      "overflow": null,
      "overflow_x": null,
      "overflow_y": null,
      "padding": null,
      "right": null,
      "top": null,
      "visibility": null,
      "width": null
     }
    },
    "555314cf32ec4cf8b2013e1b7e1db42a": {
     "model_module": "@jupyter-widgets/controls",
     "model_module_version": "1.5.0",
     "model_name": "DescriptionStyleModel",
     "state": {
      "_model_module": "@jupyter-widgets/controls",
      "_model_module_version": "1.5.0",
      "_model_name": "DescriptionStyleModel",
      "_view_count": null,
      "_view_module": "@jupyter-widgets/base",
      "_view_module_version": "1.2.0",
      "_view_name": "StyleView",
      "description_width": ""
     }
    },
    "56798370a57c4a459dab1f99f5482d39": {
     "model_module": "@jupyter-widgets/controls",
     "model_module_version": "1.5.0",
     "model_name": "FloatProgressModel",
     "state": {
      "_dom_classes": [],
      "_model_module": "@jupyter-widgets/controls",
      "_model_module_version": "1.5.0",
      "_model_name": "FloatProgressModel",
      "_view_count": null,
      "_view_module": "@jupyter-widgets/controls",
      "_view_module_version": "1.5.0",
      "_view_name": "ProgressView",
      "bar_style": "success",
      "description": "",
      "description_tooltip": null,
      "layout": "IPY_MODEL_7292eff48bcc4530bd6a8013e2b90c34",
      "max": 28,
      "min": 0,
      "orientation": "horizontal",
      "style": "IPY_MODEL_bfd33228ab994fa7bcf3d902be7ad761",
      "value": 28
     }
    },
    "5de3bceb1fc94f6db78e3e334f44aac1": {
     "model_module": "@jupyter-widgets/controls",
     "model_module_version": "1.5.0",
     "model_name": "ProgressStyleModel",
     "state": {
      "_model_module": "@jupyter-widgets/controls",
      "_model_module_version": "1.5.0",
      "_model_name": "ProgressStyleModel",
      "_view_count": null,
      "_view_module": "@jupyter-widgets/base",
      "_view_module_version": "1.2.0",
      "_view_name": "StyleView",
      "bar_color": null,
      "description_width": ""
     }
    },
    "6b61b97c63c64a8a82c6219bbefd2efa": {
     "model_module": "@jupyter-widgets/base",
     "model_module_version": "1.2.0",
     "model_name": "LayoutModel",
     "state": {
      "_model_module": "@jupyter-widgets/base",
      "_model_module_version": "1.2.0",
      "_model_name": "LayoutModel",
      "_view_count": null,
      "_view_module": "@jupyter-widgets/base",
      "_view_module_version": "1.2.0",
      "_view_name": "LayoutView",
      "align_content": null,
      "align_items": null,
      "align_self": null,
      "border": null,
      "bottom": null,
      "display": null,
      "flex": null,
      "flex_flow": null,
      "grid_area": null,
      "grid_auto_columns": null,
      "grid_auto_flow": null,
      "grid_auto_rows": null,
      "grid_column": null,
      "grid_gap": null,
      "grid_row": null,
      "grid_template_areas": null,
      "grid_template_columns": null,
      "grid_template_rows": null,
      "height": null,
      "justify_content": null,
      "justify_items": null,
      "left": null,
      "margin": null,
      "max_height": null,
      "max_width": null,
      "min_height": null,
      "min_width": null,
      "object_fit": null,
      "object_position": null,
      "order": null,
      "overflow": null,
      "overflow_x": null,
      "overflow_y": null,
      "padding": null,
      "right": null,
      "top": null,
      "visibility": null,
      "width": null
     }
    },
    "6b80c71c13bb4d58bf5ff05f58e76c58": {
     "model_module": "@jupyter-widgets/base",
     "model_module_version": "1.2.0",
     "model_name": "LayoutModel",
     "state": {
      "_model_module": "@jupyter-widgets/base",
      "_model_module_version": "1.2.0",
      "_model_name": "LayoutModel",
      "_view_count": null,
      "_view_module": "@jupyter-widgets/base",
      "_view_module_version": "1.2.0",
      "_view_name": "LayoutView",
      "align_content": null,
      "align_items": null,
      "align_self": null,
      "border": null,
      "bottom": null,
      "display": null,
      "flex": null,
      "flex_flow": null,
      "grid_area": null,
      "grid_auto_columns": null,
      "grid_auto_flow": null,
      "grid_auto_rows": null,
      "grid_column": null,
      "grid_gap": null,
      "grid_row": null,
      "grid_template_areas": null,
      "grid_template_columns": null,
      "grid_template_rows": null,
      "height": null,
      "justify_content": null,
      "justify_items": null,
      "left": null,
      "margin": null,
      "max_height": null,
      "max_width": null,
      "min_height": null,
      "min_width": null,
      "object_fit": null,
      "object_position": null,
      "order": null,
      "overflow": null,
      "overflow_x": null,
      "overflow_y": null,
      "padding": null,
      "right": null,
      "top": null,
      "visibility": null,
      "width": null
     }
    },
    "6f8f95e9e5134a4999a81ffbef85b43c": {
     "model_module": "@jupyter-widgets/base",
     "model_module_version": "1.2.0",
     "model_name": "LayoutModel",
     "state": {
      "_model_module": "@jupyter-widgets/base",
      "_model_module_version": "1.2.0",
      "_model_name": "LayoutModel",
      "_view_count": null,
      "_view_module": "@jupyter-widgets/base",
      "_view_module_version": "1.2.0",
      "_view_name": "LayoutView",
      "align_content": null,
      "align_items": null,
      "align_self": null,
      "border": null,
      "bottom": null,
      "display": null,
      "flex": null,
      "flex_flow": null,
      "grid_area": null,
      "grid_auto_columns": null,
      "grid_auto_flow": null,
      "grid_auto_rows": null,
      "grid_column": null,
      "grid_gap": null,
      "grid_row": null,
      "grid_template_areas": null,
      "grid_template_columns": null,
      "grid_template_rows": null,
      "height": null,
      "justify_content": null,
      "justify_items": null,
      "left": null,
      "margin": null,
      "max_height": null,
      "max_width": null,
      "min_height": null,
      "min_width": null,
      "object_fit": null,
      "object_position": null,
      "order": null,
      "overflow": null,
      "overflow_x": null,
      "overflow_y": null,
      "padding": null,
      "right": null,
      "top": null,
      "visibility": null,
      "width": null
     }
    },
    "7292eff48bcc4530bd6a8013e2b90c34": {
     "model_module": "@jupyter-widgets/base",
     "model_module_version": "1.2.0",
     "model_name": "LayoutModel",
     "state": {
      "_model_module": "@jupyter-widgets/base",
      "_model_module_version": "1.2.0",
      "_model_name": "LayoutModel",
      "_view_count": null,
      "_view_module": "@jupyter-widgets/base",
      "_view_module_version": "1.2.0",
      "_view_name": "LayoutView",
      "align_content": null,
      "align_items": null,
      "align_self": null,
      "border": null,
      "bottom": null,
      "display": null,
      "flex": null,
      "flex_flow": null,
      "grid_area": null,
      "grid_auto_columns": null,
      "grid_auto_flow": null,
      "grid_auto_rows": null,
      "grid_column": null,
      "grid_gap": null,
      "grid_row": null,
      "grid_template_areas": null,
      "grid_template_columns": null,
      "grid_template_rows": null,
      "height": null,
      "justify_content": null,
      "justify_items": null,
      "left": null,
      "margin": null,
      "max_height": null,
      "max_width": null,
      "min_height": null,
      "min_width": null,
      "object_fit": null,
      "object_position": null,
      "order": null,
      "overflow": null,
      "overflow_x": null,
      "overflow_y": null,
      "padding": null,
      "right": null,
      "top": null,
      "visibility": null,
      "width": null
     }
    },
    "74969ea18079428eb7a5c73115dea5b8": {
     "model_module": "@jupyter-widgets/controls",
     "model_module_version": "1.5.0",
     "model_name": "HBoxModel",
     "state": {
      "_dom_classes": [],
      "_model_module": "@jupyter-widgets/controls",
      "_model_module_version": "1.5.0",
      "_model_name": "HBoxModel",
      "_view_count": null,
      "_view_module": "@jupyter-widgets/controls",
      "_view_module_version": "1.5.0",
      "_view_name": "HBoxView",
      "box_style": "",
      "children": [
       "IPY_MODEL_a4ab0b0d23e24645ad6467f299899942",
       "IPY_MODEL_fc8a0d7ecb664e90b3377d2e30b8be7d",
       "IPY_MODEL_f3279339c8d9465e842efbe64308a3d2"
      ],
      "layout": "IPY_MODEL_a537b5d1f32b41d190850f81b76c71c7"
     }
    },
    "76e7908b685941b4986640620ab51f09": {
     "model_module": "@jupyter-widgets/base",
     "model_module_version": "1.2.0",
     "model_name": "LayoutModel",
     "state": {
      "_model_module": "@jupyter-widgets/base",
      "_model_module_version": "1.2.0",
      "_model_name": "LayoutModel",
      "_view_count": null,
      "_view_module": "@jupyter-widgets/base",
      "_view_module_version": "1.2.0",
      "_view_name": "LayoutView",
      "align_content": null,
      "align_items": null,
      "align_self": null,
      "border": null,
      "bottom": null,
      "display": null,
      "flex": null,
      "flex_flow": null,
      "grid_area": null,
      "grid_auto_columns": null,
      "grid_auto_flow": null,
      "grid_auto_rows": null,
      "grid_column": null,
      "grid_gap": null,
      "grid_row": null,
      "grid_template_areas": null,
      "grid_template_columns": null,
      "grid_template_rows": null,
      "height": null,
      "justify_content": null,
      "justify_items": null,
      "left": null,
      "margin": null,
      "max_height": null,
      "max_width": null,
      "min_height": null,
      "min_width": null,
      "object_fit": null,
      "object_position": null,
      "order": null,
      "overflow": null,
      "overflow_x": null,
      "overflow_y": null,
      "padding": null,
      "right": null,
      "top": null,
      "visibility": null,
      "width": null
     }
    },
    "780f393c447846e29af7b5fc96ff6482": {
     "model_module": "@jupyter-widgets/controls",
     "model_module_version": "1.5.0",
     "model_name": "HTMLModel",
     "state": {
      "_dom_classes": [],
      "_model_module": "@jupyter-widgets/controls",
      "_model_module_version": "1.5.0",
      "_model_name": "HTMLModel",
      "_view_count": null,
      "_view_module": "@jupyter-widgets/controls",
      "_view_module_version": "1.5.0",
      "_view_name": "HTMLView",
      "description": "",
      "description_tooltip": null,
      "layout": "IPY_MODEL_090e87bf3dbe44e4a58a77062a1aa213",
      "placeholder": "​",
      "style": "IPY_MODEL_7fffd089481a49cfb50fd0300cf7c371",
      "value": "Downloading (…)solve/main/vocab.txt: 100%"
     }
    },
    "7f998b1bbe7a489f8d271cb3309cbf13": {
     "model_module": "@jupyter-widgets/base",
     "model_module_version": "1.2.0",
     "model_name": "LayoutModel",
     "state": {
      "_model_module": "@jupyter-widgets/base",
      "_model_module_version": "1.2.0",
      "_model_name": "LayoutModel",
      "_view_count": null,
      "_view_module": "@jupyter-widgets/base",
      "_view_module_version": "1.2.0",
      "_view_name": "LayoutView",
      "align_content": null,
      "align_items": null,
      "align_self": null,
      "border": null,
      "bottom": null,
      "display": null,
      "flex": null,
      "flex_flow": null,
      "grid_area": null,
      "grid_auto_columns": null,
      "grid_auto_flow": null,
      "grid_auto_rows": null,
      "grid_column": null,
      "grid_gap": null,
      "grid_row": null,
      "grid_template_areas": null,
      "grid_template_columns": null,
      "grid_template_rows": null,
      "height": null,
      "justify_content": null,
      "justify_items": null,
      "left": null,
      "margin": null,
      "max_height": null,
      "max_width": null,
      "min_height": null,
      "min_width": null,
      "object_fit": null,
      "object_position": null,
      "order": null,
      "overflow": null,
      "overflow_x": null,
      "overflow_y": null,
      "padding": null,
      "right": null,
      "top": null,
      "visibility": null,
      "width": null
     }
    },
    "7fffd089481a49cfb50fd0300cf7c371": {
     "model_module": "@jupyter-widgets/controls",
     "model_module_version": "1.5.0",
     "model_name": "DescriptionStyleModel",
     "state": {
      "_model_module": "@jupyter-widgets/controls",
      "_model_module_version": "1.5.0",
      "_model_name": "DescriptionStyleModel",
      "_view_count": null,
      "_view_module": "@jupyter-widgets/base",
      "_view_module_version": "1.2.0",
      "_view_name": "StyleView",
      "description_width": ""
     }
    },
    "80015f4dab794636937e659ba0325bf0": {
     "model_module": "@jupyter-widgets/controls",
     "model_module_version": "1.5.0",
     "model_name": "DescriptionStyleModel",
     "state": {
      "_model_module": "@jupyter-widgets/controls",
      "_model_module_version": "1.5.0",
      "_model_name": "DescriptionStyleModel",
      "_view_count": null,
      "_view_module": "@jupyter-widgets/base",
      "_view_module_version": "1.2.0",
      "_view_name": "StyleView",
      "description_width": ""
     }
    },
    "889d25ca93ed430c8c7323495efe03e8": {
     "model_module": "@jupyter-widgets/controls",
     "model_module_version": "1.5.0",
     "model_name": "HBoxModel",
     "state": {
      "_dom_classes": [],
      "_model_module": "@jupyter-widgets/controls",
      "_model_module_version": "1.5.0",
      "_model_name": "HBoxModel",
      "_view_count": null,
      "_view_module": "@jupyter-widgets/controls",
      "_view_module_version": "1.5.0",
      "_view_name": "HBoxView",
      "box_style": "",
      "children": [
       "IPY_MODEL_063efbae454442a1b491f9a580154cac",
       "IPY_MODEL_04162afe02814894874c425087133f16",
       "IPY_MODEL_fe3fa96c23364c3fa15ebb54fb2f3a50"
      ],
      "layout": "IPY_MODEL_467505865ad7441ab78e1740cc948427"
     }
    },
    "8a47c2b91c0440f685f05bf872e52729": {
     "model_module": "@jupyter-widgets/controls",
     "model_module_version": "1.5.0",
     "model_name": "DescriptionStyleModel",
     "state": {
      "_model_module": "@jupyter-widgets/controls",
      "_model_module_version": "1.5.0",
      "_model_name": "DescriptionStyleModel",
      "_view_count": null,
      "_view_module": "@jupyter-widgets/base",
      "_view_module_version": "1.2.0",
      "_view_name": "StyleView",
      "description_width": ""
     }
    },
    "8af620b67531488fb793b31b70ddb54d": {
     "model_module": "@jupyter-widgets/controls",
     "model_module_version": "1.5.0",
     "model_name": "DescriptionStyleModel",
     "state": {
      "_model_module": "@jupyter-widgets/controls",
      "_model_module_version": "1.5.0",
      "_model_name": "DescriptionStyleModel",
      "_view_count": null,
      "_view_module": "@jupyter-widgets/base",
      "_view_module_version": "1.2.0",
      "_view_name": "StyleView",
      "description_width": ""
     }
    },
    "9e5e4b7da8164ff9a384f8300a079531": {
     "model_module": "@jupyter-widgets/controls",
     "model_module_version": "1.5.0",
     "model_name": "HTMLModel",
     "state": {
      "_dom_classes": [],
      "_model_module": "@jupyter-widgets/controls",
      "_model_module_version": "1.5.0",
      "_model_name": "HTMLModel",
      "_view_count": null,
      "_view_module": "@jupyter-widgets/controls",
      "_view_module_version": "1.5.0",
      "_view_name": "HTMLView",
      "description": "",
      "description_tooltip": null,
      "layout": "IPY_MODEL_6f8f95e9e5134a4999a81ffbef85b43c",
      "placeholder": "​",
      "style": "IPY_MODEL_8af620b67531488fb793b31b70ddb54d",
      "value": "Downloading tf_model.h5: 100%"
     }
    },
    "a3725509994a46a9b19293811a1e23d1": {
     "model_module": "@jupyter-widgets/base",
     "model_module_version": "1.2.0",
     "model_name": "LayoutModel",
     "state": {
      "_model_module": "@jupyter-widgets/base",
      "_model_module_version": "1.2.0",
      "_model_name": "LayoutModel",
      "_view_count": null,
      "_view_module": "@jupyter-widgets/base",
      "_view_module_version": "1.2.0",
      "_view_name": "LayoutView",
      "align_content": null,
      "align_items": null,
      "align_self": null,
      "border": null,
      "bottom": null,
      "display": null,
      "flex": null,
      "flex_flow": null,
      "grid_area": null,
      "grid_auto_columns": null,
      "grid_auto_flow": null,
      "grid_auto_rows": null,
      "grid_column": null,
      "grid_gap": null,
      "grid_row": null,
      "grid_template_areas": null,
      "grid_template_columns": null,
      "grid_template_rows": null,
      "height": null,
      "justify_content": null,
      "justify_items": null,
      "left": null,
      "margin": null,
      "max_height": null,
      "max_width": null,
      "min_height": null,
      "min_width": null,
      "object_fit": null,
      "object_position": null,
      "order": null,
      "overflow": null,
      "overflow_x": null,
      "overflow_y": null,
      "padding": null,
      "right": null,
      "top": null,
      "visibility": null,
      "width": null
     }
    },
    "a4ab0b0d23e24645ad6467f299899942": {
     "model_module": "@jupyter-widgets/controls",
     "model_module_version": "1.5.0",
     "model_name": "HTMLModel",
     "state": {
      "_dom_classes": [],
      "_model_module": "@jupyter-widgets/controls",
      "_model_module_version": "1.5.0",
      "_model_name": "HTMLModel",
      "_view_count": null,
      "_view_module": "@jupyter-widgets/controls",
      "_view_module_version": "1.5.0",
      "_view_name": "HTMLView",
      "description": "",
      "description_tooltip": null,
      "layout": "IPY_MODEL_4edefa3e325643dcad94588e7abd462a",
      "placeholder": "​",
      "style": "IPY_MODEL_dca13e954c614a35a4114c120870047d",
      "value": "Map: 100%"
     }
    },
    "a537b5d1f32b41d190850f81b76c71c7": {
     "model_module": "@jupyter-widgets/base",
     "model_module_version": "1.2.0",
     "model_name": "LayoutModel",
     "state": {
      "_model_module": "@jupyter-widgets/base",
      "_model_module_version": "1.2.0",
      "_model_name": "LayoutModel",
      "_view_count": null,
      "_view_module": "@jupyter-widgets/base",
      "_view_module_version": "1.2.0",
      "_view_name": "LayoutView",
      "align_content": null,
      "align_items": null,
      "align_self": null,
      "border": null,
      "bottom": null,
      "display": null,
      "flex": null,
      "flex_flow": null,
      "grid_area": null,
      "grid_auto_columns": null,
      "grid_auto_flow": null,
      "grid_auto_rows": null,
      "grid_column": null,
      "grid_gap": null,
      "grid_row": null,
      "grid_template_areas": null,
      "grid_template_columns": null,
      "grid_template_rows": null,
      "height": null,
      "justify_content": null,
      "justify_items": null,
      "left": null,
      "margin": null,
      "max_height": null,
      "max_width": null,
      "min_height": null,
      "min_width": null,
      "object_fit": null,
      "object_position": null,
      "order": null,
      "overflow": null,
      "overflow_x": null,
      "overflow_y": null,
      "padding": null,
      "right": null,
      "top": null,
      "visibility": "hidden",
      "width": null
     }
    },
    "a784f7fb05f64658bfbff575266d003e": {
     "model_module": "@jupyter-widgets/controls",
     "model_module_version": "1.5.0",
     "model_name": "HTMLModel",
     "state": {
      "_dom_classes": [],
      "_model_module": "@jupyter-widgets/controls",
      "_model_module_version": "1.5.0",
      "_model_name": "HTMLModel",
      "_view_count": null,
      "_view_module": "@jupyter-widgets/controls",
      "_view_module_version": "1.5.0",
      "_view_name": "HTMLView",
      "description": "",
      "description_tooltip": null,
      "layout": "IPY_MODEL_38d35d0db2374b4c920d6d2e38aebd58",
      "placeholder": "​",
      "style": "IPY_MODEL_4d6926660f8942bb9e0bed8485271acf",
      "value": " 466k/466k [00:00&lt;00:00, 1.36MB/s]"
     }
    },
    "a7c385c56ba7454ba8004694e673594e": {
     "model_module": "@jupyter-widgets/controls",
     "model_module_version": "1.5.0",
     "model_name": "DescriptionStyleModel",
     "state": {
      "_model_module": "@jupyter-widgets/controls",
      "_model_module_version": "1.5.0",
      "_model_name": "DescriptionStyleModel",
      "_view_count": null,
      "_view_module": "@jupyter-widgets/base",
      "_view_module_version": "1.2.0",
      "_view_name": "StyleView",
      "description_width": ""
     }
    },
    "a7f5245e809d469dab26536444183630": {
     "model_module": "@jupyter-widgets/controls",
     "model_module_version": "1.5.0",
     "model_name": "ProgressStyleModel",
     "state": {
      "_model_module": "@jupyter-widgets/controls",
      "_model_module_version": "1.5.0",
      "_model_name": "ProgressStyleModel",
      "_view_count": null,
      "_view_module": "@jupyter-widgets/base",
      "_view_module_version": "1.2.0",
      "_view_name": "StyleView",
      "bar_color": null,
      "description_width": ""
     }
    },
    "afcbe9d03ae44ab1af5a248495a87226": {
     "model_module": "@jupyter-widgets/base",
     "model_module_version": "1.2.0",
     "model_name": "LayoutModel",
     "state": {
      "_model_module": "@jupyter-widgets/base",
      "_model_module_version": "1.2.0",
      "_model_name": "LayoutModel",
      "_view_count": null,
      "_view_module": "@jupyter-widgets/base",
      "_view_module_version": "1.2.0",
      "_view_name": "LayoutView",
      "align_content": null,
      "align_items": null,
      "align_self": null,
      "border": null,
      "bottom": null,
      "display": null,
      "flex": null,
      "flex_flow": null,
      "grid_area": null,
      "grid_auto_columns": null,
      "grid_auto_flow": null,
      "grid_auto_rows": null,
      "grid_column": null,
      "grid_gap": null,
      "grid_row": null,
      "grid_template_areas": null,
      "grid_template_columns": null,
      "grid_template_rows": null,
      "height": null,
      "justify_content": null,
      "justify_items": null,
      "left": null,
      "margin": null,
      "max_height": null,
      "max_width": null,
      "min_height": null,
      "min_width": null,
      "object_fit": null,
      "object_position": null,
      "order": null,
      "overflow": null,
      "overflow_x": null,
      "overflow_y": null,
      "padding": null,
      "right": null,
      "top": null,
      "visibility": null,
      "width": null
     }
    },
    "b05c86dc76484aaa85ea8cc510297ff7": {
     "model_module": "@jupyter-widgets/base",
     "model_module_version": "1.2.0",
     "model_name": "LayoutModel",
     "state": {
      "_model_module": "@jupyter-widgets/base",
      "_model_module_version": "1.2.0",
      "_model_name": "LayoutModel",
      "_view_count": null,
      "_view_module": "@jupyter-widgets/base",
      "_view_module_version": "1.2.0",
      "_view_name": "LayoutView",
      "align_content": null,
      "align_items": null,
      "align_self": null,
      "border": null,
      "bottom": null,
      "display": null,
      "flex": null,
      "flex_flow": null,
      "grid_area": null,
      "grid_auto_columns": null,
      "grid_auto_flow": null,
      "grid_auto_rows": null,
      "grid_column": null,
      "grid_gap": null,
      "grid_row": null,
      "grid_template_areas": null,
      "grid_template_columns": null,
      "grid_template_rows": null,
      "height": null,
      "justify_content": null,
      "justify_items": null,
      "left": null,
      "margin": null,
      "max_height": null,
      "max_width": null,
      "min_height": null,
      "min_width": null,
      "object_fit": null,
      "object_position": null,
      "order": null,
      "overflow": null,
      "overflow_x": null,
      "overflow_y": null,
      "padding": null,
      "right": null,
      "top": null,
      "visibility": null,
      "width": null
     }
    },
    "b38b18aac2aa4784b0939c9b2164dbd0": {
     "model_module": "@jupyter-widgets/controls",
     "model_module_version": "1.5.0",
     "model_name": "DescriptionStyleModel",
     "state": {
      "_model_module": "@jupyter-widgets/controls",
      "_model_module_version": "1.5.0",
      "_model_name": "DescriptionStyleModel",
      "_view_count": null,
      "_view_module": "@jupyter-widgets/base",
      "_view_module_version": "1.2.0",
      "_view_name": "StyleView",
      "description_width": ""
     }
    },
    "bdc8b1553ff04a6fb44adc91ac5e2884": {
     "model_module": "@jupyter-widgets/base",
     "model_module_version": "1.2.0",
     "model_name": "LayoutModel",
     "state": {
      "_model_module": "@jupyter-widgets/base",
      "_model_module_version": "1.2.0",
      "_model_name": "LayoutModel",
      "_view_count": null,
      "_view_module": "@jupyter-widgets/base",
      "_view_module_version": "1.2.0",
      "_view_name": "LayoutView",
      "align_content": null,
      "align_items": null,
      "align_self": null,
      "border": null,
      "bottom": null,
      "display": null,
      "flex": null,
      "flex_flow": null,
      "grid_area": null,
      "grid_auto_columns": null,
      "grid_auto_flow": null,
      "grid_auto_rows": null,
      "grid_column": null,
      "grid_gap": null,
      "grid_row": null,
      "grid_template_areas": null,
      "grid_template_columns": null,
      "grid_template_rows": null,
      "height": null,
      "justify_content": null,
      "justify_items": null,
      "left": null,
      "margin": null,
      "max_height": null,
      "max_width": null,
      "min_height": null,
      "min_width": null,
      "object_fit": null,
      "object_position": null,
      "order": null,
      "overflow": null,
      "overflow_x": null,
      "overflow_y": null,
      "padding": null,
      "right": null,
      "top": null,
      "visibility": null,
      "width": null
     }
    },
    "bfd33228ab994fa7bcf3d902be7ad761": {
     "model_module": "@jupyter-widgets/controls",
     "model_module_version": "1.5.0",
     "model_name": "ProgressStyleModel",
     "state": {
      "_model_module": "@jupyter-widgets/controls",
      "_model_module_version": "1.5.0",
      "_model_name": "ProgressStyleModel",
      "_view_count": null,
      "_view_module": "@jupyter-widgets/base",
      "_view_module_version": "1.2.0",
      "_view_name": "StyleView",
      "bar_color": null,
      "description_width": ""
     }
    },
    "c0e4d0c5beb44b5eac0f1ad050b5b9b3": {
     "model_module": "@jupyter-widgets/base",
     "model_module_version": "1.2.0",
     "model_name": "LayoutModel",
     "state": {
      "_model_module": "@jupyter-widgets/base",
      "_model_module_version": "1.2.0",
      "_model_name": "LayoutModel",
      "_view_count": null,
      "_view_module": "@jupyter-widgets/base",
      "_view_module_version": "1.2.0",
      "_view_name": "LayoutView",
      "align_content": null,
      "align_items": null,
      "align_self": null,
      "border": null,
      "bottom": null,
      "display": null,
      "flex": null,
      "flex_flow": null,
      "grid_area": null,
      "grid_auto_columns": null,
      "grid_auto_flow": null,
      "grid_auto_rows": null,
      "grid_column": null,
      "grid_gap": null,
      "grid_row": null,
      "grid_template_areas": null,
      "grid_template_columns": null,
      "grid_template_rows": null,
      "height": null,
      "justify_content": null,
      "justify_items": null,
      "left": null,
      "margin": null,
      "max_height": null,
      "max_width": null,
      "min_height": null,
      "min_width": null,
      "object_fit": null,
      "object_position": null,
      "order": null,
      "overflow": null,
      "overflow_x": null,
      "overflow_y": null,
      "padding": null,
      "right": null,
      "top": null,
      "visibility": "hidden",
      "width": null
     }
    },
    "c25284cbaa03473fbb3e3cbde27b00a9": {
     "model_module": "@jupyter-widgets/base",
     "model_module_version": "1.2.0",
     "model_name": "LayoutModel",
     "state": {
      "_model_module": "@jupyter-widgets/base",
      "_model_module_version": "1.2.0",
      "_model_name": "LayoutModel",
      "_view_count": null,
      "_view_module": "@jupyter-widgets/base",
      "_view_module_version": "1.2.0",
      "_view_name": "LayoutView",
      "align_content": null,
      "align_items": null,
      "align_self": null,
      "border": null,
      "bottom": null,
      "display": null,
      "flex": null,
      "flex_flow": null,
      "grid_area": null,
      "grid_auto_columns": null,
      "grid_auto_flow": null,
      "grid_auto_rows": null,
      "grid_column": null,
      "grid_gap": null,
      "grid_row": null,
      "grid_template_areas": null,
      "grid_template_columns": null,
      "grid_template_rows": null,
      "height": null,
      "justify_content": null,
      "justify_items": null,
      "left": null,
      "margin": null,
      "max_height": null,
      "max_width": null,
      "min_height": null,
      "min_width": null,
      "object_fit": null,
      "object_position": null,
      "order": null,
      "overflow": null,
      "overflow_x": null,
      "overflow_y": null,
      "padding": null,
      "right": null,
      "top": null,
      "visibility": null,
      "width": null
     }
    },
    "c407f62f0f3e4e86961070c209acc478": {
     "model_module": "@jupyter-widgets/controls",
     "model_module_version": "1.5.0",
     "model_name": "HTMLModel",
     "state": {
      "_dom_classes": [],
      "_model_module": "@jupyter-widgets/controls",
      "_model_module_version": "1.5.0",
      "_model_name": "HTMLModel",
      "_view_count": null,
      "_view_module": "@jupyter-widgets/controls",
      "_view_module_version": "1.5.0",
      "_view_name": "HTMLView",
      "description": "",
      "description_tooltip": null,
      "layout": "IPY_MODEL_7f998b1bbe7a489f8d271cb3309cbf13",
      "placeholder": "​",
      "style": "IPY_MODEL_a7c385c56ba7454ba8004694e673594e",
      "value": " 232k/232k [00:00&lt;00:00, 901kB/s]"
     }
    },
    "c705b802d683407c990026c53832b554": {
     "model_module": "@jupyter-widgets/base",
     "model_module_version": "1.2.0",
     "model_name": "LayoutModel",
     "state": {
      "_model_module": "@jupyter-widgets/base",
      "_model_module_version": "1.2.0",
      "_model_name": "LayoutModel",
      "_view_count": null,
      "_view_module": "@jupyter-widgets/base",
      "_view_module_version": "1.2.0",
      "_view_name": "LayoutView",
      "align_content": null,
      "align_items": null,
      "align_self": null,
      "border": null,
      "bottom": null,
      "display": null,
      "flex": null,
      "flex_flow": null,
      "grid_area": null,
      "grid_auto_columns": null,
      "grid_auto_flow": null,
      "grid_auto_rows": null,
      "grid_column": null,
      "grid_gap": null,
      "grid_row": null,
      "grid_template_areas": null,
      "grid_template_columns": null,
      "grid_template_rows": null,
      "height": null,
      "justify_content": null,
      "justify_items": null,
      "left": null,
      "margin": null,
      "max_height": null,
      "max_width": null,
      "min_height": null,
      "min_width": null,
      "object_fit": null,
      "object_position": null,
      "order": null,
      "overflow": null,
      "overflow_x": null,
      "overflow_y": null,
      "padding": null,
      "right": null,
      "top": null,
      "visibility": null,
      "width": null
     }
    },
    "ca74de0d965b4311bf0c0eba42c1d506": {
     "model_module": "@jupyter-widgets/controls",
     "model_module_version": "1.5.0",
     "model_name": "HTMLModel",
     "state": {
      "_dom_classes": [],
      "_model_module": "@jupyter-widgets/controls",
      "_model_module_version": "1.5.0",
      "_model_name": "HTMLModel",
      "_view_count": null,
      "_view_module": "@jupyter-widgets/controls",
      "_view_module_version": "1.5.0",
      "_view_name": "HTMLView",
      "description": "",
      "description_tooltip": null,
      "layout": "IPY_MODEL_33990b29c706494a9c8f44546721b917",
      "placeholder": "​",
      "style": "IPY_MODEL_d6fe161c347d430ba6d3e8d6284f0704",
      "value": "Downloading (…)/main/tokenizer.json: 100%"
     }
    },
    "cee23181663947698512c9919715888b": {
     "model_module": "@jupyter-widgets/controls",
     "model_module_version": "1.5.0",
     "model_name": "DescriptionStyleModel",
     "state": {
      "_model_module": "@jupyter-widgets/controls",
      "_model_module_version": "1.5.0",
      "_model_name": "DescriptionStyleModel",
      "_view_count": null,
      "_view_module": "@jupyter-widgets/base",
      "_view_module_version": "1.2.0",
      "_view_name": "StyleView",
      "description_width": ""
     }
    },
    "d2ba610030734a818a7bd3222f518dce": {
     "model_module": "@jupyter-widgets/base",
     "model_module_version": "1.2.0",
     "model_name": "LayoutModel",
     "state": {
      "_model_module": "@jupyter-widgets/base",
      "_model_module_version": "1.2.0",
      "_model_name": "LayoutModel",
      "_view_count": null,
      "_view_module": "@jupyter-widgets/base",
      "_view_module_version": "1.2.0",
      "_view_name": "LayoutView",
      "align_content": null,
      "align_items": null,
      "align_self": null,
      "border": null,
      "bottom": null,
      "display": null,
      "flex": null,
      "flex_flow": null,
      "grid_area": null,
      "grid_auto_columns": null,
      "grid_auto_flow": null,
      "grid_auto_rows": null,
      "grid_column": null,
      "grid_gap": null,
      "grid_row": null,
      "grid_template_areas": null,
      "grid_template_columns": null,
      "grid_template_rows": null,
      "height": null,
      "justify_content": null,
      "justify_items": null,
      "left": null,
      "margin": null,
      "max_height": null,
      "max_width": null,
      "min_height": null,
      "min_width": null,
      "object_fit": null,
      "object_position": null,
      "order": null,
      "overflow": null,
      "overflow_x": null,
      "overflow_y": null,
      "padding": null,
      "right": null,
      "top": null,
      "visibility": null,
      "width": null
     }
    },
    "d6fe161c347d430ba6d3e8d6284f0704": {
     "model_module": "@jupyter-widgets/controls",
     "model_module_version": "1.5.0",
     "model_name": "DescriptionStyleModel",
     "state": {
      "_model_module": "@jupyter-widgets/controls",
      "_model_module_version": "1.5.0",
      "_model_name": "DescriptionStyleModel",
      "_view_count": null,
      "_view_module": "@jupyter-widgets/base",
      "_view_module_version": "1.2.0",
      "_view_name": "StyleView",
      "description_width": ""
     }
    },
    "dbb666496e1e44a493fd1b3d7e639f27": {
     "model_module": "@jupyter-widgets/controls",
     "model_module_version": "1.5.0",
     "model_name": "HBoxModel",
     "state": {
      "_dom_classes": [],
      "_model_module": "@jupyter-widgets/controls",
      "_model_module_version": "1.5.0",
      "_model_name": "HBoxModel",
      "_view_count": null,
      "_view_module": "@jupyter-widgets/controls",
      "_view_module_version": "1.5.0",
      "_view_name": "HBoxView",
      "box_style": "",
      "children": [
       "IPY_MODEL_ca74de0d965b4311bf0c0eba42c1d506",
       "IPY_MODEL_ee81f725b0874d7487f7a27e58a3042a",
       "IPY_MODEL_a784f7fb05f64658bfbff575266d003e"
      ],
      "layout": "IPY_MODEL_c25284cbaa03473fbb3e3cbde27b00a9"
     }
    },
    "dca13e954c614a35a4114c120870047d": {
     "model_module": "@jupyter-widgets/controls",
     "model_module_version": "1.5.0",
     "model_name": "DescriptionStyleModel",
     "state": {
      "_model_module": "@jupyter-widgets/controls",
      "_model_module_version": "1.5.0",
      "_model_name": "DescriptionStyleModel",
      "_view_count": null,
      "_view_module": "@jupyter-widgets/base",
      "_view_module_version": "1.2.0",
      "_view_name": "StyleView",
      "description_width": ""
     }
    },
    "dd349e0098104939a9b137fcc8a0f510": {
     "model_module": "@jupyter-widgets/controls",
     "model_module_version": "1.5.0",
     "model_name": "HTMLModel",
     "state": {
      "_dom_classes": [],
      "_model_module": "@jupyter-widgets/controls",
      "_model_module_version": "1.5.0",
      "_model_name": "HTMLModel",
      "_view_count": null,
      "_view_module": "@jupyter-widgets/controls",
      "_view_module_version": "1.5.0",
      "_view_name": "HTMLView",
      "description": "",
      "description_tooltip": null,
      "layout": "IPY_MODEL_d2ba610030734a818a7bd3222f518dce",
      "placeholder": "​",
      "style": "IPY_MODEL_cee23181663947698512c9919715888b",
      "value": " 28.0/28.0 [00:00&lt;00:00, 910B/s]"
     }
    },
    "ddf3cf29a8cb476794b665b3020100ee": {
     "model_module": "@jupyter-widgets/controls",
     "model_module_version": "1.5.0",
     "model_name": "DescriptionStyleModel",
     "state": {
      "_model_module": "@jupyter-widgets/controls",
      "_model_module_version": "1.5.0",
      "_model_name": "DescriptionStyleModel",
      "_view_count": null,
      "_view_module": "@jupyter-widgets/base",
      "_view_module_version": "1.2.0",
      "_view_name": "StyleView",
      "description_width": ""
     }
    },
    "e04af98d187d4a3dad77111dfb808311": {
     "model_module": "@jupyter-widgets/controls",
     "model_module_version": "1.5.0",
     "model_name": "ProgressStyleModel",
     "state": {
      "_model_module": "@jupyter-widgets/controls",
      "_model_module_version": "1.5.0",
      "_model_name": "ProgressStyleModel",
      "_view_count": null,
      "_view_module": "@jupyter-widgets/base",
      "_view_module_version": "1.2.0",
      "_view_name": "StyleView",
      "bar_color": null,
      "description_width": ""
     }
    },
    "e1430ab429274515a4e32dea094011e9": {
     "model_module": "@jupyter-widgets/base",
     "model_module_version": "1.2.0",
     "model_name": "LayoutModel",
     "state": {
      "_model_module": "@jupyter-widgets/base",
      "_model_module_version": "1.2.0",
      "_model_name": "LayoutModel",
      "_view_count": null,
      "_view_module": "@jupyter-widgets/base",
      "_view_module_version": "1.2.0",
      "_view_name": "LayoutView",
      "align_content": null,
      "align_items": null,
      "align_self": null,
      "border": null,
      "bottom": null,
      "display": null,
      "flex": null,
      "flex_flow": null,
      "grid_area": null,
      "grid_auto_columns": null,
      "grid_auto_flow": null,
      "grid_auto_rows": null,
      "grid_column": null,
      "grid_gap": null,
      "grid_row": null,
      "grid_template_areas": null,
      "grid_template_columns": null,
      "grid_template_rows": null,
      "height": null,
      "justify_content": null,
      "justify_items": null,
      "left": null,
      "margin": null,
      "max_height": null,
      "max_width": null,
      "min_height": null,
      "min_width": null,
      "object_fit": null,
      "object_position": null,
      "order": null,
      "overflow": null,
      "overflow_x": null,
      "overflow_y": null,
      "padding": null,
      "right": null,
      "top": null,
      "visibility": null,
      "width": null
     }
    },
    "e3985e10e6df4a899091f578c5d8bcde": {
     "model_module": "@jupyter-widgets/base",
     "model_module_version": "1.2.0",
     "model_name": "LayoutModel",
     "state": {
      "_model_module": "@jupyter-widgets/base",
      "_model_module_version": "1.2.0",
      "_model_name": "LayoutModel",
      "_view_count": null,
      "_view_module": "@jupyter-widgets/base",
      "_view_module_version": "1.2.0",
      "_view_name": "LayoutView",
      "align_content": null,
      "align_items": null,
      "align_self": null,
      "border": null,
      "bottom": null,
      "display": null,
      "flex": null,
      "flex_flow": null,
      "grid_area": null,
      "grid_auto_columns": null,
      "grid_auto_flow": null,
      "grid_auto_rows": null,
      "grid_column": null,
      "grid_gap": null,
      "grid_row": null,
      "grid_template_areas": null,
      "grid_template_columns": null,
      "grid_template_rows": null,
      "height": null,
      "justify_content": null,
      "justify_items": null,
      "left": null,
      "margin": null,
      "max_height": null,
      "max_width": null,
      "min_height": null,
      "min_width": null,
      "object_fit": null,
      "object_position": null,
      "order": null,
      "overflow": null,
      "overflow_x": null,
      "overflow_y": null,
      "padding": null,
      "right": null,
      "top": null,
      "visibility": null,
      "width": null
     }
    },
    "e6ae3c51448843a2af185520ae8496b3": {
     "model_module": "@jupyter-widgets/controls",
     "model_module_version": "1.5.0",
     "model_name": "FloatProgressModel",
     "state": {
      "_dom_classes": [],
      "_model_module": "@jupyter-widgets/controls",
      "_model_module_version": "1.5.0",
      "_model_name": "FloatProgressModel",
      "_view_count": null,
      "_view_module": "@jupyter-widgets/controls",
      "_view_module_version": "1.5.0",
      "_view_name": "ProgressView",
      "bar_style": "success",
      "description": "",
      "description_tooltip": null,
      "layout": "IPY_MODEL_2aeff27bcd26415db5a9a71298e9d597",
      "max": 231508,
      "min": 0,
      "orientation": "horizontal",
      "style": "IPY_MODEL_e04af98d187d4a3dad77111dfb808311",
      "value": 231508
     }
    },
    "e8f58c40d087477092c334054d504f89": {
     "model_module": "@jupyter-widgets/base",
     "model_module_version": "1.2.0",
     "model_name": "LayoutModel",
     "state": {
      "_model_module": "@jupyter-widgets/base",
      "_model_module_version": "1.2.0",
      "_model_name": "LayoutModel",
      "_view_count": null,
      "_view_module": "@jupyter-widgets/base",
      "_view_module_version": "1.2.0",
      "_view_name": "LayoutView",
      "align_content": null,
      "align_items": null,
      "align_self": null,
      "border": null,
      "bottom": null,
      "display": null,
      "flex": null,
      "flex_flow": null,
      "grid_area": null,
      "grid_auto_columns": null,
      "grid_auto_flow": null,
      "grid_auto_rows": null,
      "grid_column": null,
      "grid_gap": null,
      "grid_row": null,
      "grid_template_areas": null,
      "grid_template_columns": null,
      "grid_template_rows": null,
      "height": null,
      "justify_content": null,
      "justify_items": null,
      "left": null,
      "margin": null,
      "max_height": null,
      "max_width": null,
      "min_height": null,
      "min_width": null,
      "object_fit": null,
      "object_position": null,
      "order": null,
      "overflow": null,
      "overflow_x": null,
      "overflow_y": null,
      "padding": null,
      "right": null,
      "top": null,
      "visibility": null,
      "width": null
     }
    },
    "ebe4ddca4f3246c3b9ab1b98cb6a15e1": {
     "model_module": "@jupyter-widgets/controls",
     "model_module_version": "1.5.0",
     "model_name": "DescriptionStyleModel",
     "state": {
      "_model_module": "@jupyter-widgets/controls",
      "_model_module_version": "1.5.0",
      "_model_name": "DescriptionStyleModel",
      "_view_count": null,
      "_view_module": "@jupyter-widgets/base",
      "_view_module_version": "1.2.0",
      "_view_name": "StyleView",
      "description_width": ""
     }
    },
    "ee81f725b0874d7487f7a27e58a3042a": {
     "model_module": "@jupyter-widgets/controls",
     "model_module_version": "1.5.0",
     "model_name": "FloatProgressModel",
     "state": {
      "_dom_classes": [],
      "_model_module": "@jupyter-widgets/controls",
      "_model_module_version": "1.5.0",
      "_model_name": "FloatProgressModel",
      "_view_count": null,
      "_view_module": "@jupyter-widgets/controls",
      "_view_module_version": "1.5.0",
      "_view_name": "ProgressView",
      "bar_style": "success",
      "description": "",
      "description_tooltip": null,
      "layout": "IPY_MODEL_c705b802d683407c990026c53832b554",
      "max": 466062,
      "min": 0,
      "orientation": "horizontal",
      "style": "IPY_MODEL_5de3bceb1fc94f6db78e3e334f44aac1",
      "value": 466062
     }
    },
    "f3279339c8d9465e842efbe64308a3d2": {
     "model_module": "@jupyter-widgets/controls",
     "model_module_version": "1.5.0",
     "model_name": "HTMLModel",
     "state": {
      "_dom_classes": [],
      "_model_module": "@jupyter-widgets/controls",
      "_model_module_version": "1.5.0",
      "_model_name": "HTMLModel",
      "_view_count": null,
      "_view_module": "@jupyter-widgets/controls",
      "_view_module_version": "1.5.0",
      "_view_name": "HTMLView",
      "description": "",
      "description_tooltip": null,
      "layout": "IPY_MODEL_bdc8b1553ff04a6fb44adc91ac5e2884",
      "placeholder": "​",
      "style": "IPY_MODEL_470c7e48e3414ea09faa87345760efc0",
      "value": " 53444/53444 [01:03&lt;00:00, 944.24 examples/s]"
     }
    },
    "fc8a0d7ecb664e90b3377d2e30b8be7d": {
     "model_module": "@jupyter-widgets/controls",
     "model_module_version": "1.5.0",
     "model_name": "FloatProgressModel",
     "state": {
      "_dom_classes": [],
      "_model_module": "@jupyter-widgets/controls",
      "_model_module_version": "1.5.0",
      "_model_name": "FloatProgressModel",
      "_view_count": null,
      "_view_module": "@jupyter-widgets/controls",
      "_view_module_version": "1.5.0",
      "_view_name": "ProgressView",
      "bar_style": "",
      "description": "",
      "description_tooltip": null,
      "layout": "IPY_MODEL_afcbe9d03ae44ab1af5a248495a87226",
      "max": 53444,
      "min": 0,
      "orientation": "horizontal",
      "style": "IPY_MODEL_15007f10bfd442c199804530861a425b",
      "value": 53444
     }
    },
    "fe3fa96c23364c3fa15ebb54fb2f3a50": {
     "model_module": "@jupyter-widgets/controls",
     "model_module_version": "1.5.0",
     "model_name": "HTMLModel",
     "state": {
      "_dom_classes": [],
      "_model_module": "@jupyter-widgets/controls",
      "_model_module_version": "1.5.0",
      "_model_name": "HTMLModel",
      "_view_count": null,
      "_view_module": "@jupyter-widgets/controls",
      "_view_module_version": "1.5.0",
      "_view_name": "HTMLView",
      "description": "",
      "description_tooltip": null,
      "layout": "IPY_MODEL_6b61b97c63c64a8a82c6219bbefd2efa",
      "placeholder": "​",
      "style": "IPY_MODEL_555314cf32ec4cf8b2013e1b7e1db42a",
      "value": " 570/570 [00:00&lt;00:00, 34.4kB/s]"
     }
    },
    "ffd7deef412c46d1bc4b9bf4deb126c0": {
     "model_module": "@jupyter-widgets/controls",
     "model_module_version": "1.5.0",
     "model_name": "HTMLModel",
     "state": {
      "_dom_classes": [],
      "_model_module": "@jupyter-widgets/controls",
      "_model_module_version": "1.5.0",
      "_model_name": "HTMLModel",
      "_view_count": null,
      "_view_module": "@jupyter-widgets/controls",
      "_view_module_version": "1.5.0",
      "_view_name": "HTMLView",
      "description": "",
      "description_tooltip": null,
      "layout": "IPY_MODEL_e8f58c40d087477092c334054d504f89",
      "placeholder": "​",
      "style": "IPY_MODEL_ebe4ddca4f3246c3b9ab1b98cb6a15e1",
      "value": "Downloading (…)okenizer_config.json: 100%"
     }
    }
   }
  }
 },
 "nbformat": 4,
 "nbformat_minor": 1
}
